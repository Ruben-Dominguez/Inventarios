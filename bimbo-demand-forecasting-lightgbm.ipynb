{
 "cells": [
  {
   "cell_type": "markdown",
   "metadata": {},
   "source": [
    "# 1. Importing Packages and Collecting Data, Defining Evaluation "
   ]
  },
  {
   "cell_type": "markdown",
   "metadata": {},
   "source": [
    "## 1.1 Importing Packages"
   ]
  },
  {
   "cell_type": "code",
   "execution_count": 1,
   "metadata": {},
   "outputs": [],
   "source": [
    "'''Importing Data Manipulattion Modules'''\n",
    "import re\n",
    "import numpy as np\n",
    "import pandas as pd\n",
    "from pandas.core.dtypes.dtypes import CategoricalDtype\n",
    "from scipy.stats import norm, skew\n",
    "from scipy.special import boxcox1p\n",
    "pd.set_option('display.float_format', lambda x: '{:.3f}'.format(x))\n",
    "pd.set_option(\"display.max_columns\", 81)\n",
    "pd.set_option(\"display.max_rows\", 101)\n",
    "pd.set_option(\"display.max_colwidth\", 100)\n",
    "\n",
    "'''Seaborn and Matplotlib Visualization'''\n",
    "import matplotlib.pyplot as plt\n",
    "import seaborn as sns\n",
    "plt.style.use('bmh')                    \n",
    "sns.set_style({'axes.grid':False}) \n",
    "sns.set_style('whitegrid')\n",
    "%matplotlib inline\n",
    "\n",
    "'''Validation'''\n",
    "from sklearn.model_selection import KFold, cross_val_score\n",
    "\n",
    "'''Ignore deprecation and future, and user warnings.'''\n",
    "import warnings as wrn\n",
    "wrn.filterwarnings('ignore', category = DeprecationWarning) \n",
    "wrn.filterwarnings('ignore', category = FutureWarning) \n",
    "wrn.filterwarnings('ignore', category = UserWarning) "
   ]
  },
  {
   "cell_type": "markdown",
   "metadata": {},
   "source": [
    "## 1.2 Collecting Data"
   ]
  },
  {
   "cell_type": "code",
   "execution_count": 11,
   "metadata": {},
   "outputs": [],
   "source": [
    "'''Check the files'''\n",
    "from subprocess import check_output\n",
    "# print(check_output([\"ls\", \"./grupo-bimbo-inventory-demand\"]).decode(\"utf8\"))"
   ]
  },
  {
   "cell_type": "markdown",
   "metadata": {},
   "source": [
    "### town_state"
   ]
  },
  {
   "cell_type": "code",
   "execution_count": 12,
   "metadata": {},
   "outputs": [
    {
     "name": "stdout",
     "output_type": "stream",
     "text": [
      "town_state's shape: (790, 5)\n"
     ]
    },
    {
     "data": {
      "text/html": [
       "<div>\n",
       "<style scoped>\n",
       "    .dataframe tbody tr th:only-of-type {\n",
       "        vertical-align: middle;\n",
       "    }\n",
       "\n",
       "    .dataframe tbody tr th {\n",
       "        vertical-align: top;\n",
       "    }\n",
       "\n",
       "    .dataframe thead th {\n",
       "        text-align: right;\n",
       "    }\n",
       "</style>\n",
       "<table border=\"1\" class=\"dataframe\">\n",
       "  <thead>\n",
       "    <tr style=\"text-align: right;\">\n",
       "      <th></th>\n",
       "      <th>Agencia_ID</th>\n",
       "      <th>Town</th>\n",
       "      <th>State</th>\n",
       "      <th>Town_ID</th>\n",
       "      <th>Town_name</th>\n",
       "    </tr>\n",
       "  </thead>\n",
       "  <tbody>\n",
       "    <tr>\n",
       "      <th>0</th>\n",
       "      <td>1110</td>\n",
       "      <td>2008 AG. LAGO FILT</td>\n",
       "      <td>MÉXICO, D.F.</td>\n",
       "      <td>2008</td>\n",
       "      <td>AG. LAGO FILT</td>\n",
       "    </tr>\n",
       "    <tr>\n",
       "      <th>1</th>\n",
       "      <td>1111</td>\n",
       "      <td>2002 AG. AZCAPOTZALCO</td>\n",
       "      <td>MÉXICO, D.F.</td>\n",
       "      <td>2002</td>\n",
       "      <td>AG. AZCAPOTZALCO</td>\n",
       "    </tr>\n",
       "    <tr>\n",
       "      <th>2</th>\n",
       "      <td>1112</td>\n",
       "      <td>2004 AG. CUAUTITLAN</td>\n",
       "      <td>ESTADO DE MÉXICO</td>\n",
       "      <td>2004</td>\n",
       "      <td>AG. CUAUTITLAN</td>\n",
       "    </tr>\n",
       "    <tr>\n",
       "      <th>3</th>\n",
       "      <td>1113</td>\n",
       "      <td>2008 AG. LAGO FILT</td>\n",
       "      <td>MÉXICO, D.F.</td>\n",
       "      <td>2008</td>\n",
       "      <td>AG. LAGO FILT</td>\n",
       "    </tr>\n",
       "    <tr>\n",
       "      <th>4</th>\n",
       "      <td>1114</td>\n",
       "      <td>2029 AG.IZTAPALAPA 2</td>\n",
       "      <td>MÉXICO, D.F.</td>\n",
       "      <td>2029</td>\n",
       "      <td>AG.IZTAPALAPA 2</td>\n",
       "    </tr>\n",
       "  </tbody>\n",
       "</table>\n",
       "</div>"
      ],
      "text/plain": [
       "   Agencia_ID                   Town             State  Town_ID  \\\n",
       "0        1110     2008 AG. LAGO FILT      MÉXICO, D.F.     2008   \n",
       "1        1111  2002 AG. AZCAPOTZALCO      MÉXICO, D.F.     2002   \n",
       "2        1112    2004 AG. CUAUTITLAN  ESTADO DE MÉXICO     2004   \n",
       "3        1113     2008 AG. LAGO FILT      MÉXICO, D.F.     2008   \n",
       "4        1114   2029 AG.IZTAPALAPA 2      MÉXICO, D.F.     2029   \n",
       "\n",
       "          Town_name  \n",
       "0     AG. LAGO FILT  \n",
       "1  AG. AZCAPOTZALCO  \n",
       "2    AG. CUAUTITLAN  \n",
       "3     AG. LAGO FILT  \n",
       "4   AG.IZTAPALAPA 2  "
      ]
     },
     "execution_count": 12,
     "metadata": {},
     "output_type": "execute_result"
    }
   ],
   "source": [
    "dtype = {'Agencia_ID': 'int16'}\n",
    "town_state_df = pd.read_csv(\"./grupo-bimbo-inventory-demand/town_state.csv\", dtype=dtype)\n",
    "\n",
    "town_state_df['Town_ID'] = town_state_df.Town.apply(lambda x: x.split(' ')[0]).astype('int16')\n",
    "town_state_df['Town_name'] = town_state_df.Town.apply(lambda x: ' '.join(x.split(' ')[1:]))\n",
    "\n",
    "print(f'town_state\\'s shape: {town_state_df.shape}')\n",
    "town_state_df.head(5)"
   ]
  },
  {
   "cell_type": "code",
   "execution_count": 13,
   "metadata": {},
   "outputs": [
    {
     "name": "stdout",
     "output_type": "stream",
     "text": [
      "<class 'pandas.core.frame.DataFrame'>\n",
      "RangeIndex: 790 entries, 0 to 789\n",
      "Data columns (total 5 columns):\n",
      " #   Column      Non-Null Count  Dtype \n",
      "---  ------      --------------  ----- \n",
      " 0   Agencia_ID  790 non-null    int16 \n",
      " 1   Town        790 non-null    object\n",
      " 2   State       790 non-null    object\n",
      " 3   Town_ID     790 non-null    int16 \n",
      " 4   Town_name   790 non-null    object\n",
      "dtypes: int16(2), object(3)\n",
      "memory usage: 21.7+ KB\n"
     ]
    }
   ],
   "source": [
    "town_state_df.info()"
   ]
  },
  {
   "cell_type": "markdown",
   "metadata": {},
   "source": [
    "### product"
   ]
  },
  {
   "cell_type": "code",
   "execution_count": 15,
   "metadata": {},
   "outputs": [
    {
     "name": "stdout",
     "output_type": "stream",
     "text": [
      "product's shape: (2592, 6)\n"
     ]
    },
    {
     "data": {
      "text/html": [
       "<div>\n",
       "<style scoped>\n",
       "    .dataframe tbody tr th:only-of-type {\n",
       "        vertical-align: middle;\n",
       "    }\n",
       "\n",
       "    .dataframe tbody tr th {\n",
       "        vertical-align: top;\n",
       "    }\n",
       "\n",
       "    .dataframe thead th {\n",
       "        text-align: right;\n",
       "    }\n",
       "</style>\n",
       "<table border=\"1\" class=\"dataframe\">\n",
       "  <thead>\n",
       "    <tr style=\"text-align: right;\">\n",
       "      <th></th>\n",
       "      <th>Producto_ID</th>\n",
       "      <th>NombreProducto</th>\n",
       "      <th>popular_name</th>\n",
       "      <th>property</th>\n",
       "      <th>unit</th>\n",
       "      <th>pieces</th>\n",
       "    </tr>\n",
       "  </thead>\n",
       "  <tbody>\n",
       "    <tr>\n",
       "      <th>0</th>\n",
       "      <td>0</td>\n",
       "      <td>NO IDENTIFICADO 0</td>\n",
       "      <td>NaN</td>\n",
       "      <td>NaN</td>\n",
       "      <td>NaN</td>\n",
       "      <td>NaN</td>\n",
       "    </tr>\n",
       "    <tr>\n",
       "      <th>1</th>\n",
       "      <td>9</td>\n",
       "      <td>Capuccino Moka 750g NES 9</td>\n",
       "      <td>Capuccino Moka</td>\n",
       "      <td>NES</td>\n",
       "      <td>750g</td>\n",
       "      <td>NaN</td>\n",
       "    </tr>\n",
       "    <tr>\n",
       "      <th>2</th>\n",
       "      <td>41</td>\n",
       "      <td>Bimbollos Ext sAjonjoli 6p 480g BIM 41</td>\n",
       "      <td>Bimbollos Ext sAjonjoli</td>\n",
       "      <td>BIM</td>\n",
       "      <td>480g</td>\n",
       "      <td>6p</td>\n",
       "    </tr>\n",
       "    <tr>\n",
       "      <th>3</th>\n",
       "      <td>53</td>\n",
       "      <td>Burritos Sincro 170g CU LON 53</td>\n",
       "      <td>Burritos Sincro</td>\n",
       "      <td>CU LON</td>\n",
       "      <td>170g</td>\n",
       "      <td>NaN</td>\n",
       "    </tr>\n",
       "    <tr>\n",
       "      <th>4</th>\n",
       "      <td>72</td>\n",
       "      <td>Div Tira Mini Doradita 4p 45g TR 72</td>\n",
       "      <td>Div Tira Mini Doradita</td>\n",
       "      <td>TR</td>\n",
       "      <td>45g</td>\n",
       "      <td>4p</td>\n",
       "    </tr>\n",
       "  </tbody>\n",
       "</table>\n",
       "</div>"
      ],
      "text/plain": [
       "   Producto_ID                          NombreProducto  \\\n",
       "0            0                       NO IDENTIFICADO 0   \n",
       "1            9               Capuccino Moka 750g NES 9   \n",
       "2           41  Bimbollos Ext sAjonjoli 6p 480g BIM 41   \n",
       "3           53          Burritos Sincro 170g CU LON 53   \n",
       "4           72     Div Tira Mini Doradita 4p 45g TR 72   \n",
       "\n",
       "              popular_name property   unit pieces  \n",
       "0                      NaN      NaN    NaN    NaN  \n",
       "1           Capuccino Moka      NES   750g    NaN  \n",
       "2  Bimbollos Ext sAjonjoli      BIM   480g     6p  \n",
       "3          Burritos Sincro   CU LON   170g    NaN  \n",
       "4   Div Tira Mini Doradita       TR    45g     4p  "
      ]
     },
     "execution_count": 15,
     "metadata": {},
     "output_type": "execute_result"
    }
   ],
   "source": [
    "dtype = {'Producto_ID': 'int32'}\n",
    "product_df = pd.read_csv(\"./grupo-bimbo-inventory-demand/producto_tabla.csv\", dtype=dtype)\n",
    "\n",
    "product_df['popular_name'] = product_df.NombreProducto.str.extract(r'^(.*?)(\\d*\\s\\d+(kg|Kg|g|G|ml| ml|p|Reb)\\s)', expand=False)[0]\n",
    "product_df['property'] = product_df.NombreProducto.str.extract(r'^.*\\d+(kg|Kg|g|G|ml| ml|p|Reb)\\s(.*?)\\s\\d+$', expand=False)[1]\n",
    "product_df['unit'] = product_df.NombreProducto.str.extract(r'(\\d*\\s\\d+(kg|Kg|g|G|ml| ml))', expand=False)[0]\n",
    "product_df['pieces'] =  product_df.NombreProducto.str.extract('(\\d+(p|Reb)) ', expand=False)[0]\n",
    "\n",
    "print(f'product\\'s shape: {product_df.shape}')\n",
    "product_df.head(5)"
   ]
  },
  {
   "cell_type": "code",
   "execution_count": 16,
   "metadata": {},
   "outputs": [
    {
     "name": "stdout",
     "output_type": "stream",
     "text": [
      "<class 'pandas.core.frame.DataFrame'>\n",
      "RangeIndex: 2592 entries, 0 to 2591\n",
      "Data columns (total 6 columns):\n",
      " #   Column          Non-Null Count  Dtype \n",
      "---  ------          --------------  ----- \n",
      " 0   Producto_ID     2592 non-null   int32 \n",
      " 1   NombreProducto  2592 non-null   object\n",
      " 2   popular_name    2565 non-null   object\n",
      " 3   property        2571 non-null   object\n",
      " 4   unit            2532 non-null   object\n",
      " 5   pieces          1132 non-null   object\n",
      "dtypes: int32(1), object(5)\n",
      "memory usage: 111.5+ KB\n"
     ]
    }
   ],
   "source": [
    "product_df.info()"
   ]
  },
  {
   "cell_type": "markdown",
   "metadata": {},
   "source": [
    "### client"
   ]
  },
  {
   "cell_type": "code",
   "execution_count": 18,
   "metadata": {},
   "outputs": [
    {
     "name": "stdout",
     "output_type": "stream",
     "text": [
      "client's shape: (935362, 3)\n"
     ]
    },
    {
     "data": {
      "text/html": [
       "<div>\n",
       "<style scoped>\n",
       "    .dataframe tbody tr th:only-of-type {\n",
       "        vertical-align: middle;\n",
       "    }\n",
       "\n",
       "    .dataframe tbody tr th {\n",
       "        vertical-align: top;\n",
       "    }\n",
       "\n",
       "    .dataframe thead th {\n",
       "        text-align: right;\n",
       "    }\n",
       "</style>\n",
       "<table border=\"1\" class=\"dataframe\">\n",
       "  <thead>\n",
       "    <tr style=\"text-align: right;\">\n",
       "      <th></th>\n",
       "      <th>Cliente_ID</th>\n",
       "      <th>NombreCliente</th>\n",
       "      <th>dup_num</th>\n",
       "    </tr>\n",
       "  </thead>\n",
       "  <tbody>\n",
       "    <tr>\n",
       "      <th>0</th>\n",
       "      <td>0</td>\n",
       "      <td>SIN NOMBRE</td>\n",
       "      <td>1</td>\n",
       "    </tr>\n",
       "    <tr>\n",
       "      <th>1</th>\n",
       "      <td>1</td>\n",
       "      <td>OXXO XINANTECATL</td>\n",
       "      <td>1</td>\n",
       "    </tr>\n",
       "    <tr>\n",
       "      <th>2</th>\n",
       "      <td>2</td>\n",
       "      <td>SIN NOMBRE</td>\n",
       "      <td>1</td>\n",
       "    </tr>\n",
       "    <tr>\n",
       "      <th>3</th>\n",
       "      <td>3</td>\n",
       "      <td>EL MORENO</td>\n",
       "      <td>1</td>\n",
       "    </tr>\n",
       "    <tr>\n",
       "      <th>4</th>\n",
       "      <td>4</td>\n",
       "      <td>SDN SER  DE ALIM  CUERPO SA CIA  DE INT</td>\n",
       "      <td>2</td>\n",
       "    </tr>\n",
       "  </tbody>\n",
       "</table>\n",
       "</div>"
      ],
      "text/plain": [
       "   Cliente_ID                            NombreCliente  dup_num\n",
       "0           0                               SIN NOMBRE        1\n",
       "1           1                         OXXO XINANTECATL        1\n",
       "2           2                               SIN NOMBRE        1\n",
       "3           3                                EL MORENO        1\n",
       "4           4  SDN SER  DE ALIM  CUERPO SA CIA  DE INT        2"
      ]
     },
     "execution_count": 18,
     "metadata": {},
     "output_type": "execute_result"
    }
   ],
   "source": [
    "dtype = {'Cliente_ID': 'int32'}\n",
    "client_df = pd.read_csv(\"./grupo-bimbo-inventory-demand/cliente_tabla.csv\", dtype=dtype)\n",
    "\n",
    "dup_sr = client_df.groupby('Cliente_ID')['Cliente_ID'].count().astype('int8')\n",
    "dup_sr.name = 'dup_num'\n",
    "client_df = pd.merge(client_df, pd.DataFrame(dup_sr).reset_index())\n",
    "del dup_sr\n",
    "\n",
    "print(f'client\\'s shape: {client_df.shape}')\n",
    "client_df.head(5)"
   ]
  },
  {
   "cell_type": "code",
   "execution_count": 19,
   "metadata": {},
   "outputs": [
    {
     "name": "stdout",
     "output_type": "stream",
     "text": [
      "<class 'pandas.core.frame.DataFrame'>\n",
      "Int64Index: 935362 entries, 0 to 935361\n",
      "Data columns (total 3 columns):\n",
      " #   Column         Non-Null Count   Dtype \n",
      "---  ------         --------------   ----- \n",
      " 0   Cliente_ID     935362 non-null  int32 \n",
      " 1   NombreCliente  935362 non-null  object\n",
      " 2   dup_num        935362 non-null  int8  \n",
      "dtypes: int32(1), int8(1), object(1)\n",
      "memory usage: 18.7+ MB\n"
     ]
    }
   ],
   "source": [
    "client_df.info()"
   ]
  },
  {
   "cell_type": "markdown",
   "metadata": {},
   "source": [
    "### test"
   ]
  },
  {
   "cell_type": "code",
   "execution_count": 21,
   "metadata": {},
   "outputs": [
    {
     "name": "stdout",
     "output_type": "stream",
     "text": [
      "test's shape: (6999251, 7)\n"
     ]
    },
    {
     "data": {
      "text/html": [
       "<div>\n",
       "<style scoped>\n",
       "    .dataframe tbody tr th:only-of-type {\n",
       "        vertical-align: middle;\n",
       "    }\n",
       "\n",
       "    .dataframe tbody tr th {\n",
       "        vertical-align: top;\n",
       "    }\n",
       "\n",
       "    .dataframe thead th {\n",
       "        text-align: right;\n",
       "    }\n",
       "</style>\n",
       "<table border=\"1\" class=\"dataframe\">\n",
       "  <thead>\n",
       "    <tr style=\"text-align: right;\">\n",
       "      <th></th>\n",
       "      <th>id</th>\n",
       "      <th>Semana</th>\n",
       "      <th>Agencia_ID</th>\n",
       "      <th>Canal_ID</th>\n",
       "      <th>Ruta_SAK</th>\n",
       "      <th>Cliente_ID</th>\n",
       "      <th>Producto_ID</th>\n",
       "    </tr>\n",
       "  </thead>\n",
       "  <tbody>\n",
       "    <tr>\n",
       "      <th>0</th>\n",
       "      <td>0</td>\n",
       "      <td>11</td>\n",
       "      <td>4037</td>\n",
       "      <td>1</td>\n",
       "      <td>2209</td>\n",
       "      <td>4639078</td>\n",
       "      <td>35305</td>\n",
       "    </tr>\n",
       "    <tr>\n",
       "      <th>1</th>\n",
       "      <td>1</td>\n",
       "      <td>11</td>\n",
       "      <td>2237</td>\n",
       "      <td>1</td>\n",
       "      <td>1226</td>\n",
       "      <td>4705135</td>\n",
       "      <td>1238</td>\n",
       "    </tr>\n",
       "    <tr>\n",
       "      <th>2</th>\n",
       "      <td>2</td>\n",
       "      <td>10</td>\n",
       "      <td>2045</td>\n",
       "      <td>1</td>\n",
       "      <td>2831</td>\n",
       "      <td>4549769</td>\n",
       "      <td>32940</td>\n",
       "    </tr>\n",
       "    <tr>\n",
       "      <th>3</th>\n",
       "      <td>3</td>\n",
       "      <td>11</td>\n",
       "      <td>1227</td>\n",
       "      <td>1</td>\n",
       "      <td>4448</td>\n",
       "      <td>4717855</td>\n",
       "      <td>43066</td>\n",
       "    </tr>\n",
       "    <tr>\n",
       "      <th>4</th>\n",
       "      <td>4</td>\n",
       "      <td>11</td>\n",
       "      <td>1219</td>\n",
       "      <td>1</td>\n",
       "      <td>1130</td>\n",
       "      <td>966351</td>\n",
       "      <td>1277</td>\n",
       "    </tr>\n",
       "  </tbody>\n",
       "</table>\n",
       "</div>"
      ],
      "text/plain": [
       "   id  Semana  Agencia_ID  Canal_ID  Ruta_SAK  Cliente_ID  Producto_ID\n",
       "0   0      11        4037         1      2209     4639078        35305\n",
       "1   1      11        2237         1      1226     4705135         1238\n",
       "2   2      10        2045         1      2831     4549769        32940\n",
       "3   3      11        1227         1      4448     4717855        43066\n",
       "4   4      11        1219         1      1130      966351         1277"
      ]
     },
     "execution_count": 21,
     "metadata": {},
     "output_type": "execute_result"
    }
   ],
   "source": [
    "dtype = {\n",
    "    'id': 'int32',\n",
    "    'Semana': 'int8',\n",
    "    'Agencia_ID': 'int16',\n",
    "    'Canal_ID': 'int8',\n",
    "    'Ruta_SAK': 'int16',\n",
    "    'Cliente_ID': 'int32',\n",
    "    'Producto_ID': 'int32',\n",
    "}\n",
    "test_df = pd.read_csv(\"./grupo-bimbo-inventory-demand/test.csv\", dtype=dtype)\n",
    "\n",
    "print(f'test\\'s shape: {test_df.shape}')\n",
    "test_df.head()"
   ]
  },
  {
   "cell_type": "code",
   "execution_count": 22,
   "metadata": {},
   "outputs": [
    {
     "name": "stdout",
     "output_type": "stream",
     "text": [
      "<class 'pandas.core.frame.DataFrame'>\n",
      "RangeIndex: 6999251 entries, 0 to 6999250\n",
      "Data columns (total 7 columns):\n",
      " #   Column       Dtype\n",
      "---  ------       -----\n",
      " 0   id           int32\n",
      " 1   Semana       int8 \n",
      " 2   Agencia_ID   int16\n",
      " 3   Canal_ID     int8 \n",
      " 4   Ruta_SAK     int16\n",
      " 5   Cliente_ID   int32\n",
      " 6   Producto_ID  int32\n",
      "dtypes: int16(2), int32(3), int8(2)\n",
      "memory usage: 120.2 MB\n"
     ]
    }
   ],
   "source": [
    "test_df.info()"
   ]
  },
  {
   "cell_type": "markdown",
   "metadata": {},
   "source": [
    "### train"
   ]
  },
  {
   "cell_type": "code",
   "execution_count": 24,
   "metadata": {},
   "outputs": [
    {
     "name": "stdout",
     "output_type": "stream",
     "text": [
      "train's shape: (74180464, 11)\n"
     ]
    },
    {
     "data": {
      "text/html": [
       "<div>\n",
       "<style scoped>\n",
       "    .dataframe tbody tr th:only-of-type {\n",
       "        vertical-align: middle;\n",
       "    }\n",
       "\n",
       "    .dataframe tbody tr th {\n",
       "        vertical-align: top;\n",
       "    }\n",
       "\n",
       "    .dataframe thead th {\n",
       "        text-align: right;\n",
       "    }\n",
       "</style>\n",
       "<table border=\"1\" class=\"dataframe\">\n",
       "  <thead>\n",
       "    <tr style=\"text-align: right;\">\n",
       "      <th></th>\n",
       "      <th>Semana</th>\n",
       "      <th>Agencia_ID</th>\n",
       "      <th>Canal_ID</th>\n",
       "      <th>Ruta_SAK</th>\n",
       "      <th>Cliente_ID</th>\n",
       "      <th>Producto_ID</th>\n",
       "      <th>Venta_uni_hoy</th>\n",
       "      <th>Venta_hoy</th>\n",
       "      <th>Dev_uni_proxima</th>\n",
       "      <th>Dev_proxima</th>\n",
       "      <th>Demanda_uni_equil</th>\n",
       "    </tr>\n",
       "  </thead>\n",
       "  <tbody>\n",
       "    <tr>\n",
       "      <th>0</th>\n",
       "      <td>3</td>\n",
       "      <td>1110</td>\n",
       "      <td>7</td>\n",
       "      <td>3301</td>\n",
       "      <td>15766</td>\n",
       "      <td>1212</td>\n",
       "      <td>3</td>\n",
       "      <td>25.140</td>\n",
       "      <td>0</td>\n",
       "      <td>0.000</td>\n",
       "      <td>3</td>\n",
       "    </tr>\n",
       "    <tr>\n",
       "      <th>1</th>\n",
       "      <td>3</td>\n",
       "      <td>1110</td>\n",
       "      <td>7</td>\n",
       "      <td>3301</td>\n",
       "      <td>15766</td>\n",
       "      <td>1216</td>\n",
       "      <td>4</td>\n",
       "      <td>33.520</td>\n",
       "      <td>0</td>\n",
       "      <td>0.000</td>\n",
       "      <td>4</td>\n",
       "    </tr>\n",
       "    <tr>\n",
       "      <th>2</th>\n",
       "      <td>3</td>\n",
       "      <td>1110</td>\n",
       "      <td>7</td>\n",
       "      <td>3301</td>\n",
       "      <td>15766</td>\n",
       "      <td>1238</td>\n",
       "      <td>4</td>\n",
       "      <td>39.320</td>\n",
       "      <td>0</td>\n",
       "      <td>0.000</td>\n",
       "      <td>4</td>\n",
       "    </tr>\n",
       "    <tr>\n",
       "      <th>3</th>\n",
       "      <td>3</td>\n",
       "      <td>1110</td>\n",
       "      <td>7</td>\n",
       "      <td>3301</td>\n",
       "      <td>15766</td>\n",
       "      <td>1240</td>\n",
       "      <td>4</td>\n",
       "      <td>33.520</td>\n",
       "      <td>0</td>\n",
       "      <td>0.000</td>\n",
       "      <td>4</td>\n",
       "    </tr>\n",
       "    <tr>\n",
       "      <th>4</th>\n",
       "      <td>3</td>\n",
       "      <td>1110</td>\n",
       "      <td>7</td>\n",
       "      <td>3301</td>\n",
       "      <td>15766</td>\n",
       "      <td>1242</td>\n",
       "      <td>3</td>\n",
       "      <td>22.920</td>\n",
       "      <td>0</td>\n",
       "      <td>0.000</td>\n",
       "      <td>3</td>\n",
       "    </tr>\n",
       "  </tbody>\n",
       "</table>\n",
       "</div>"
      ],
      "text/plain": [
       "   Semana  Agencia_ID  Canal_ID  Ruta_SAK  Cliente_ID  Producto_ID  \\\n",
       "0       3        1110         7      3301       15766         1212   \n",
       "1       3        1110         7      3301       15766         1216   \n",
       "2       3        1110         7      3301       15766         1238   \n",
       "3       3        1110         7      3301       15766         1240   \n",
       "4       3        1110         7      3301       15766         1242   \n",
       "\n",
       "   Venta_uni_hoy  Venta_hoy  Dev_uni_proxima  Dev_proxima  Demanda_uni_equil  \n",
       "0              3     25.140                0        0.000                  3  \n",
       "1              4     33.520                0        0.000                  4  \n",
       "2              4     39.320                0        0.000                  4  \n",
       "3              4     33.520                0        0.000                  4  \n",
       "4              3     22.920                0        0.000                  3  "
      ]
     },
     "execution_count": 24,
     "metadata": {},
     "output_type": "execute_result"
    }
   ],
   "source": [
    "dtype = {\n",
    "    'Semana': 'int8',\n",
    "    'Agencia_ID': 'int16',\n",
    "    'Canal_ID': 'int8',\n",
    "    'Ruta_SAK': 'int16',\n",
    "    'Cliente_ID': 'int32',\n",
    "    'Producto_ID': 'int32',\n",
    "    'Venta_uni_hoy': 'int16',\n",
    "    'Venta_hoy': 'float32',\n",
    "    'Dev_uni_proxima': 'int32',\n",
    "    'Dev_proxima': 'float32',\n",
    "    'Demanda_uni_equil': 'int16',\n",
    "}\n",
    "train_df = pd.read_csv(\"./grupo-bimbo-inventory-demand/train.csv\", dtype=dtype)\n",
    "\n",
    "print(f'train\\'s shape: {train_df.shape}')\n",
    "train_df.head()"
   ]
  },
  {
   "cell_type": "code",
   "execution_count": 25,
   "metadata": {},
   "outputs": [
    {
     "name": "stdout",
     "output_type": "stream",
     "text": [
      "<class 'pandas.core.frame.DataFrame'>\n",
      "RangeIndex: 74180464 entries, 0 to 74180463\n",
      "Data columns (total 11 columns):\n",
      " #   Column             Dtype  \n",
      "---  ------             -----  \n",
      " 0   Semana             int8   \n",
      " 1   Agencia_ID         int16  \n",
      " 2   Canal_ID           int8   \n",
      " 3   Ruta_SAK           int16  \n",
      " 4   Cliente_ID         int32  \n",
      " 5   Producto_ID        int32  \n",
      " 6   Venta_uni_hoy      int16  \n",
      " 7   Venta_hoy          float32\n",
      " 8   Dev_uni_proxima    int32  \n",
      " 9   Dev_proxima        float32\n",
      " 10  Demanda_uni_equil  int16  \n",
      "dtypes: float32(2), int16(4), int32(3), int8(2)\n",
      "memory usage: 2.1 GB\n"
     ]
    }
   ],
   "source": [
    "train_df.info()"
   ]
  },
  {
   "cell_type": "markdown",
   "metadata": {},
   "source": [
    "### product_price"
   ]
  },
  {
   "cell_type": "code",
   "execution_count": 26,
   "metadata": {},
   "outputs": [
    {
     "name": "stdout",
     "output_type": "stream",
     "text": [
      "product price's shape: (74180464, 3)\n"
     ]
    },
    {
     "data": {
      "text/html": [
       "<div>\n",
       "<style scoped>\n",
       "    .dataframe tbody tr th:only-of-type {\n",
       "        vertical-align: middle;\n",
       "    }\n",
       "\n",
       "    .dataframe tbody tr th {\n",
       "        vertical-align: top;\n",
       "    }\n",
       "\n",
       "    .dataframe thead th {\n",
       "        text-align: right;\n",
       "    }\n",
       "</style>\n",
       "<table border=\"1\" class=\"dataframe\">\n",
       "  <thead>\n",
       "    <tr style=\"text-align: right;\">\n",
       "      <th></th>\n",
       "      <th>Producto_ID</th>\n",
       "      <th>sale_price</th>\n",
       "      <th>return_price</th>\n",
       "    </tr>\n",
       "  </thead>\n",
       "  <tbody>\n",
       "    <tr>\n",
       "      <th>0</th>\n",
       "      <td>1212</td>\n",
       "      <td>8.380</td>\n",
       "      <td>NaN</td>\n",
       "    </tr>\n",
       "    <tr>\n",
       "      <th>1</th>\n",
       "      <td>1216</td>\n",
       "      <td>8.380</td>\n",
       "      <td>NaN</td>\n",
       "    </tr>\n",
       "    <tr>\n",
       "      <th>2</th>\n",
       "      <td>1238</td>\n",
       "      <td>9.830</td>\n",
       "      <td>NaN</td>\n",
       "    </tr>\n",
       "    <tr>\n",
       "      <th>3</th>\n",
       "      <td>1240</td>\n",
       "      <td>8.380</td>\n",
       "      <td>NaN</td>\n",
       "    </tr>\n",
       "    <tr>\n",
       "      <th>4</th>\n",
       "      <td>1242</td>\n",
       "      <td>7.640</td>\n",
       "      <td>NaN</td>\n",
       "    </tr>\n",
       "  </tbody>\n",
       "</table>\n",
       "</div>"
      ],
      "text/plain": [
       "   Producto_ID  sale_price  return_price\n",
       "0         1212       8.380           NaN\n",
       "1         1216       8.380           NaN\n",
       "2         1238       9.830           NaN\n",
       "3         1240       8.380           NaN\n",
       "4         1242       7.640           NaN"
      ]
     },
     "execution_count": 26,
     "metadata": {},
     "output_type": "execute_result"
    }
   ],
   "source": [
    "sale_price_sr = (train_df.Venta_hoy / train_df.Venta_uni_hoy)\n",
    "return_price_sr = (train_df.Dev_proxima / train_df.Dev_uni_proxima)\n",
    "product_price_df = pd.DataFrame({'Producto_ID': train_df.Producto_ID, 'sale_price': sale_price_sr, 'return_price': return_price_sr})\n",
    "\n",
    "del sale_price_sr\n",
    "del return_price_sr\n",
    "\n",
    "print(f'product price\\'s shape: {product_price_df.shape}')\n",
    "product_price_df.head(5)"
   ]
  },
  {
   "cell_type": "code",
   "execution_count": 27,
   "metadata": {},
   "outputs": [
    {
     "name": "stdout",
     "output_type": "stream",
     "text": [
      "<class 'pandas.core.frame.DataFrame'>\n",
      "RangeIndex: 74180464 entries, 0 to 74180463\n",
      "Data columns (total 3 columns):\n",
      " #   Column        Dtype  \n",
      "---  ------        -----  \n",
      " 0   Producto_ID   int32  \n",
      " 1   sale_price    float32\n",
      " 2   return_price  float32\n",
      "dtypes: float32(2), int32(1)\n",
      "memory usage: 848.9 MB\n"
     ]
    }
   ],
   "source": [
    "product_price_df.info()"
   ]
  },
  {
   "cell_type": "markdown",
   "metadata": {},
   "source": [
    "## 1.3 Defining Evaluation"
   ]
  },
  {
   "cell_type": "code",
   "execution_count": 28,
   "metadata": {},
   "outputs": [],
   "source": [
    "'''KFold for cross validation'''\n",
    "kf = KFold(n_splits=3, shuffle=True, random_state=2)\n",
    "\n",
    "'''Define the validation function'''\n",
    "def rmsle_cv(model, X, y, cv=kf):\n",
    "    rmsle = np.sqrt(\n",
    "        -cross_val_score(\n",
    "            model,\n",
    "            X, y,\n",
    "            scoring=\"neg_mean_squared_log_error\",\n",
    "            cv=cv,\n",
    "        )\n",
    "    )\n",
    "    return(rmsle)"
   ]
  },
  {
   "cell_type": "markdown",
   "metadata": {},
   "source": [
    "# 2. Adjusting Data"
   ]
  },
  {
   "cell_type": "markdown",
   "metadata": {},
   "source": [
    "## 2.1 Cleansing"
   ]
  },
  {
   "cell_type": "markdown",
   "metadata": {},
   "source": [
    "### town_state"
   ]
  },
  {
   "cell_type": "code",
   "execution_count": 29,
   "metadata": {},
   "outputs": [],
   "source": [
    "town_state_df['Town'] = town_state_df['Town'].str.upper()\n",
    "town_state_df['Town_name'] = town_state_df['Town_name'].str.upper()\n",
    "town_state_df['State'] = town_state_df['State'].str.upper()"
   ]
  },
  {
   "cell_type": "code",
   "execution_count": 30,
   "metadata": {},
   "outputs": [
    {
     "data": {
      "text/plain": [
       "Town_name\n",
       "PINOTEPA       2\n",
       "LOS MOCHIS     2\n",
       "ACAPONETA      1\n",
       "NOGALES_BW     1\n",
       "NORTE          1\n",
       "NUEVO IDEAL    1\n",
       "Name: Town_ID, dtype: int64"
      ]
     },
     "execution_count": 30,
     "metadata": {},
     "output_type": "execute_result"
    }
   ],
   "source": [
    "town_state_df.groupby(['Town_name'])['Town_ID'].nunique().sort_values(ascending=False)[:6]"
   ]
  },
  {
   "cell_type": "code",
   "execution_count": 31,
   "metadata": {},
   "outputs": [
    {
     "data": {
      "text/html": [
       "<div>\n",
       "<style scoped>\n",
       "    .dataframe tbody tr th:only-of-type {\n",
       "        vertical-align: middle;\n",
       "    }\n",
       "\n",
       "    .dataframe tbody tr th {\n",
       "        vertical-align: top;\n",
       "    }\n",
       "\n",
       "    .dataframe thead th {\n",
       "        text-align: right;\n",
       "    }\n",
       "</style>\n",
       "<table border=\"1\" class=\"dataframe\">\n",
       "  <thead>\n",
       "    <tr style=\"text-align: right;\">\n",
       "      <th></th>\n",
       "      <th>Agencia_ID</th>\n",
       "      <th>Town</th>\n",
       "      <th>State</th>\n",
       "      <th>Town_ID</th>\n",
       "      <th>Town_name</th>\n",
       "    </tr>\n",
       "  </thead>\n",
       "  <tbody>\n",
       "    <tr>\n",
       "      <th>211</th>\n",
       "      <td>1544</td>\n",
       "      <td>2561 LOS MOCHIS</td>\n",
       "      <td>SINALOA</td>\n",
       "      <td>2561</td>\n",
       "      <td>LOS MOCHIS</td>\n",
       "    </tr>\n",
       "    <tr>\n",
       "      <th>227</th>\n",
       "      <td>1564</td>\n",
       "      <td>2561 LOS MOCHIS</td>\n",
       "      <td>SINALOA</td>\n",
       "      <td>2561</td>\n",
       "      <td>LOS MOCHIS</td>\n",
       "    </tr>\n",
       "    <tr>\n",
       "      <th>248</th>\n",
       "      <td>1598</td>\n",
       "      <td>2561 LOS MOCHIS</td>\n",
       "      <td>SINALOA</td>\n",
       "      <td>2561</td>\n",
       "      <td>LOS MOCHIS</td>\n",
       "    </tr>\n",
       "    <tr>\n",
       "      <th>498</th>\n",
       "      <td>2655</td>\n",
       "      <td>2655 LOS MOCHIS</td>\n",
       "      <td>SINALOA</td>\n",
       "      <td>2655</td>\n",
       "      <td>LOS MOCHIS</td>\n",
       "    </tr>\n",
       "    <tr>\n",
       "      <th>774</th>\n",
       "      <td>25619</td>\n",
       "      <td>2561 LOS MOCHIS</td>\n",
       "      <td>SINALOA</td>\n",
       "      <td>2561</td>\n",
       "      <td>LOS MOCHIS</td>\n",
       "    </tr>\n",
       "    <tr>\n",
       "      <th>372</th>\n",
       "      <td>2023</td>\n",
       "      <td>2169 PINOTEPA</td>\n",
       "      <td>OAXACA</td>\n",
       "      <td>2169</td>\n",
       "      <td>PINOTEPA</td>\n",
       "    </tr>\n",
       "    <tr>\n",
       "      <th>387</th>\n",
       "      <td>2055</td>\n",
       "      <td>2055 PINOTEPA</td>\n",
       "      <td>PUEBLA</td>\n",
       "      <td>2055</td>\n",
       "      <td>PINOTEPA</td>\n",
       "    </tr>\n",
       "    <tr>\n",
       "      <th>599</th>\n",
       "      <td>21699</td>\n",
       "      <td>2169 PINOTEPA</td>\n",
       "      <td>OAXACA</td>\n",
       "      <td>2169</td>\n",
       "      <td>PINOTEPA</td>\n",
       "    </tr>\n",
       "  </tbody>\n",
       "</table>\n",
       "</div>"
      ],
      "text/plain": [
       "     Agencia_ID             Town    State  Town_ID   Town_name\n",
       "211        1544  2561 LOS MOCHIS  SINALOA     2561  LOS MOCHIS\n",
       "227        1564  2561 LOS MOCHIS  SINALOA     2561  LOS MOCHIS\n",
       "248        1598  2561 LOS MOCHIS  SINALOA     2561  LOS MOCHIS\n",
       "498        2655  2655 LOS MOCHIS  SINALOA     2655  LOS MOCHIS\n",
       "774       25619  2561 LOS MOCHIS  SINALOA     2561  LOS MOCHIS\n",
       "372        2023    2169 PINOTEPA   OAXACA     2169    PINOTEPA\n",
       "387        2055    2055 PINOTEPA   PUEBLA     2055    PINOTEPA\n",
       "599       21699    2169 PINOTEPA   OAXACA     2169    PINOTEPA"
      ]
     },
     "execution_count": 31,
     "metadata": {},
     "output_type": "execute_result"
    }
   ],
   "source": [
    "town_state_df[(town_state_df['Town_name'].isin(['LOS MOCHIS', 'PINOTEPA']))].sort_values(by='Town_name')"
   ]
  },
  {
   "cell_type": "code",
   "execution_count": 32,
   "metadata": {},
   "outputs": [],
   "source": [
    "town_state_df.loc[498, 'Town_ID'] = 2561"
   ]
  },
  {
   "cell_type": "code",
   "execution_count": 33,
   "metadata": {},
   "outputs": [
    {
     "data": {
      "text/html": [
       "<div>\n",
       "<style scoped>\n",
       "    .dataframe tbody tr th:only-of-type {\n",
       "        vertical-align: middle;\n",
       "    }\n",
       "\n",
       "    .dataframe tbody tr th {\n",
       "        vertical-align: top;\n",
       "    }\n",
       "\n",
       "    .dataframe thead th {\n",
       "        text-align: right;\n",
       "    }\n",
       "</style>\n",
       "<table border=\"1\" class=\"dataframe\">\n",
       "  <thead>\n",
       "    <tr style=\"text-align: right;\">\n",
       "      <th></th>\n",
       "      <th>Agencia_ID</th>\n",
       "      <th>Town</th>\n",
       "      <th>State</th>\n",
       "      <th>Town_ID</th>\n",
       "      <th>Town_name</th>\n",
       "    </tr>\n",
       "  </thead>\n",
       "  <tbody>\n",
       "    <tr>\n",
       "      <th>0</th>\n",
       "      <td>1110</td>\n",
       "      <td>2008 AG. LAGO FILT</td>\n",
       "      <td>MÉXICO, D.F.</td>\n",
       "      <td>2008</td>\n",
       "      <td>AG. LAGO FILT</td>\n",
       "    </tr>\n",
       "    <tr>\n",
       "      <th>1</th>\n",
       "      <td>1111</td>\n",
       "      <td>2002 AG. AZCAPOTZALCO</td>\n",
       "      <td>MÉXICO, D.F.</td>\n",
       "      <td>2002</td>\n",
       "      <td>AG. AZCAPOTZALCO</td>\n",
       "    </tr>\n",
       "    <tr>\n",
       "      <th>2</th>\n",
       "      <td>1112</td>\n",
       "      <td>2004 AG. CUAUTITLAN</td>\n",
       "      <td>ESTADO DE MÉXICO</td>\n",
       "      <td>2004</td>\n",
       "      <td>AG. CUAUTITLAN</td>\n",
       "    </tr>\n",
       "    <tr>\n",
       "      <th>3</th>\n",
       "      <td>1113</td>\n",
       "      <td>2008 AG. LAGO FILT</td>\n",
       "      <td>MÉXICO, D.F.</td>\n",
       "      <td>2008</td>\n",
       "      <td>AG. LAGO FILT</td>\n",
       "    </tr>\n",
       "    <tr>\n",
       "      <th>4</th>\n",
       "      <td>1114</td>\n",
       "      <td>2029 AG.IZTAPALAPA 2</td>\n",
       "      <td>MÉXICO, D.F.</td>\n",
       "      <td>2029</td>\n",
       "      <td>AG.IZTAPALAPA 2</td>\n",
       "    </tr>\n",
       "  </tbody>\n",
       "</table>\n",
       "</div>"
      ],
      "text/plain": [
       "   Agencia_ID                   Town             State  Town_ID  \\\n",
       "0        1110     2008 AG. LAGO FILT      MÉXICO, D.F.     2008   \n",
       "1        1111  2002 AG. AZCAPOTZALCO      MÉXICO, D.F.     2002   \n",
       "2        1112    2004 AG. CUAUTITLAN  ESTADO DE MÉXICO     2004   \n",
       "3        1113     2008 AG. LAGO FILT      MÉXICO, D.F.     2008   \n",
       "4        1114   2029 AG.IZTAPALAPA 2      MÉXICO, D.F.     2029   \n",
       "\n",
       "          Town_name  \n",
       "0     AG. LAGO FILT  \n",
       "1  AG. AZCAPOTZALCO  \n",
       "2    AG. CUAUTITLAN  \n",
       "3     AG. LAGO FILT  \n",
       "4   AG.IZTAPALAPA 2  "
      ]
     },
     "execution_count": 33,
     "metadata": {},
     "output_type": "execute_result"
    }
   ],
   "source": [
    "town_state_df.head(5)"
   ]
  },
  {
   "cell_type": "code",
   "execution_count": 34,
   "metadata": {},
   "outputs": [
    {
     "data": {
      "text/plain": [
       "Town_ID\n",
       "2169    2\n",
       "2152    2\n",
       "2561    2\n",
       "2001    1\n",
       "2391    1\n",
       "       ..\n",
       "2257    1\n",
       "2258    1\n",
       "2259    1\n",
       "2260    1\n",
       "3216    1\n",
       "Name: Town, Length: 256, dtype: int64"
      ]
     },
     "execution_count": 34,
     "metadata": {},
     "output_type": "execute_result"
    }
   ],
   "source": [
    "town_state_df.groupby('Town_ID')['Town'].nunique().sort_values(ascending=False)"
   ]
  },
  {
   "cell_type": "code",
   "execution_count": 35,
   "metadata": {},
   "outputs": [
    {
     "data": {
      "text/html": [
       "<div>\n",
       "<style scoped>\n",
       "    .dataframe tbody tr th:only-of-type {\n",
       "        vertical-align: middle;\n",
       "    }\n",
       "\n",
       "    .dataframe tbody tr th {\n",
       "        vertical-align: top;\n",
       "    }\n",
       "\n",
       "    .dataframe thead th {\n",
       "        text-align: right;\n",
       "    }\n",
       "</style>\n",
       "<table border=\"1\" class=\"dataframe\">\n",
       "  <thead>\n",
       "    <tr style=\"text-align: right;\">\n",
       "      <th></th>\n",
       "      <th>Agencia_ID</th>\n",
       "      <th>Town</th>\n",
       "      <th>State</th>\n",
       "      <th>Town_ID</th>\n",
       "      <th>Town_name</th>\n",
       "    </tr>\n",
       "  </thead>\n",
       "  <tbody>\n",
       "    <tr>\n",
       "      <th>199</th>\n",
       "      <td>1524</td>\n",
       "      <td>2152 CRUCE DE ANDEN NOROESTE</td>\n",
       "      <td>BAJA CALIFORNIA NORTE</td>\n",
       "      <td>2152</td>\n",
       "      <td>CRUCE DE ANDEN NOROESTE</td>\n",
       "    </tr>\n",
       "    <tr>\n",
       "      <th>371</th>\n",
       "      <td>2022</td>\n",
       "      <td>2152 ALTAMIRANO_BM</td>\n",
       "      <td>GUERRERO</td>\n",
       "      <td>2152</td>\n",
       "      <td>ALTAMIRANO_BM</td>\n",
       "    </tr>\n",
       "    <tr>\n",
       "      <th>583</th>\n",
       "      <td>21529</td>\n",
       "      <td>2152 ALTAMIRANO_BM</td>\n",
       "      <td>GUERRERO</td>\n",
       "      <td>2152</td>\n",
       "      <td>ALTAMIRANO_BM</td>\n",
       "    </tr>\n",
       "    <tr>\n",
       "      <th>311</th>\n",
       "      <td>1694</td>\n",
       "      <td>2169 CRUCE DE ANDÉN SURESTE</td>\n",
       "      <td>PUEBLA</td>\n",
       "      <td>2169</td>\n",
       "      <td>CRUCE DE ANDÉN SURESTE</td>\n",
       "    </tr>\n",
       "    <tr>\n",
       "      <th>372</th>\n",
       "      <td>2023</td>\n",
       "      <td>2169 PINOTEPA</td>\n",
       "      <td>OAXACA</td>\n",
       "      <td>2169</td>\n",
       "      <td>PINOTEPA</td>\n",
       "    </tr>\n",
       "    <tr>\n",
       "      <th>599</th>\n",
       "      <td>21699</td>\n",
       "      <td>2169 PINOTEPA</td>\n",
       "      <td>OAXACA</td>\n",
       "      <td>2169</td>\n",
       "      <td>PINOTEPA</td>\n",
       "    </tr>\n",
       "    <tr>\n",
       "      <th>211</th>\n",
       "      <td>1544</td>\n",
       "      <td>2561 LOS MOCHIS</td>\n",
       "      <td>SINALOA</td>\n",
       "      <td>2561</td>\n",
       "      <td>LOS MOCHIS</td>\n",
       "    </tr>\n",
       "    <tr>\n",
       "      <th>227</th>\n",
       "      <td>1564</td>\n",
       "      <td>2561 LOS MOCHIS</td>\n",
       "      <td>SINALOA</td>\n",
       "      <td>2561</td>\n",
       "      <td>LOS MOCHIS</td>\n",
       "    </tr>\n",
       "    <tr>\n",
       "      <th>248</th>\n",
       "      <td>1598</td>\n",
       "      <td>2561 LOS MOCHIS</td>\n",
       "      <td>SINALOA</td>\n",
       "      <td>2561</td>\n",
       "      <td>LOS MOCHIS</td>\n",
       "    </tr>\n",
       "    <tr>\n",
       "      <th>498</th>\n",
       "      <td>2655</td>\n",
       "      <td>2655 LOS MOCHIS</td>\n",
       "      <td>SINALOA</td>\n",
       "      <td>2561</td>\n",
       "      <td>LOS MOCHIS</td>\n",
       "    </tr>\n",
       "    <tr>\n",
       "      <th>774</th>\n",
       "      <td>25619</td>\n",
       "      <td>2561 LOS MOCHIS</td>\n",
       "      <td>SINALOA</td>\n",
       "      <td>2561</td>\n",
       "      <td>LOS MOCHIS</td>\n",
       "    </tr>\n",
       "  </tbody>\n",
       "</table>\n",
       "</div>"
      ],
      "text/plain": [
       "     Agencia_ID                          Town                  State  Town_ID  \\\n",
       "199        1524  2152 CRUCE DE ANDEN NOROESTE  BAJA CALIFORNIA NORTE     2152   \n",
       "371        2022            2152 ALTAMIRANO_BM               GUERRERO     2152   \n",
       "583       21529            2152 ALTAMIRANO_BM               GUERRERO     2152   \n",
       "311        1694   2169 CRUCE DE ANDÉN SURESTE                 PUEBLA     2169   \n",
       "372        2023                 2169 PINOTEPA                 OAXACA     2169   \n",
       "599       21699                 2169 PINOTEPA                 OAXACA     2169   \n",
       "211        1544               2561 LOS MOCHIS                SINALOA     2561   \n",
       "227        1564               2561 LOS MOCHIS                SINALOA     2561   \n",
       "248        1598               2561 LOS MOCHIS                SINALOA     2561   \n",
       "498        2655               2655 LOS MOCHIS                SINALOA     2561   \n",
       "774       25619               2561 LOS MOCHIS                SINALOA     2561   \n",
       "\n",
       "                   Town_name  \n",
       "199  CRUCE DE ANDEN NOROESTE  \n",
       "371            ALTAMIRANO_BM  \n",
       "583            ALTAMIRANO_BM  \n",
       "311   CRUCE DE ANDÉN SURESTE  \n",
       "372                 PINOTEPA  \n",
       "599                 PINOTEPA  \n",
       "211               LOS MOCHIS  \n",
       "227               LOS MOCHIS  \n",
       "248               LOS MOCHIS  \n",
       "498               LOS MOCHIS  \n",
       "774               LOS MOCHIS  "
      ]
     },
     "execution_count": 35,
     "metadata": {},
     "output_type": "execute_result"
    }
   ],
   "source": [
    "town_state_df[town_state_df.Town_ID.isin([2561, 2169, 2152])].sort_values(by='Town_ID')"
   ]
  },
  {
   "cell_type": "code",
   "execution_count": 36,
   "metadata": {},
   "outputs": [
    {
     "data": {
      "text/plain": [
       "3216"
      ]
     },
     "execution_count": 36,
     "metadata": {},
     "output_type": "execute_result"
    }
   ],
   "source": [
    "town_state_df['Town_ID'].max()"
   ]
  },
  {
   "cell_type": "code",
   "execution_count": 37,
   "metadata": {},
   "outputs": [],
   "source": [
    "town_state_df.loc[199, 'Town_ID'] = 3217\n",
    "town_state_df.loc[311, 'Town_ID'] = 3218"
   ]
  },
  {
   "cell_type": "code",
   "execution_count": 38,
   "metadata": {},
   "outputs": [
    {
     "data": {
      "text/plain": [
       "258"
      ]
     },
     "execution_count": 38,
     "metadata": {},
     "output_type": "execute_result"
    }
   ],
   "source": [
    "town_state_df['Town_ID'].nunique()"
   ]
  },
  {
   "cell_type": "markdown",
   "metadata": {},
   "source": [
    "### product_price"
   ]
  },
  {
   "cell_type": "code",
   "execution_count": 39,
   "metadata": {},
   "outputs": [
    {
     "data": {
      "text/html": [
       "<div>\n",
       "<style scoped>\n",
       "    .dataframe tbody tr th:only-of-type {\n",
       "        vertical-align: middle;\n",
       "    }\n",
       "\n",
       "    .dataframe tbody tr th {\n",
       "        vertical-align: top;\n",
       "    }\n",
       "\n",
       "    .dataframe thead th {\n",
       "        text-align: right;\n",
       "    }\n",
       "</style>\n",
       "<table border=\"1\" class=\"dataframe\">\n",
       "  <thead>\n",
       "    <tr style=\"text-align: right;\">\n",
       "      <th></th>\n",
       "      <th>Producto_ID</th>\n",
       "      <th>price</th>\n",
       "    </tr>\n",
       "  </thead>\n",
       "  <tbody>\n",
       "    <tr>\n",
       "      <th>0</th>\n",
       "      <td>41</td>\n",
       "      <td>18.130</td>\n",
       "    </tr>\n",
       "    <tr>\n",
       "      <th>1</th>\n",
       "      <td>53</td>\n",
       "      <td>14.300</td>\n",
       "    </tr>\n",
       "    <tr>\n",
       "      <th>2</th>\n",
       "      <td>72</td>\n",
       "      <td>3.700</td>\n",
       "    </tr>\n",
       "    <tr>\n",
       "      <th>3</th>\n",
       "      <td>73</td>\n",
       "      <td>21.320</td>\n",
       "    </tr>\n",
       "    <tr>\n",
       "      <th>4</th>\n",
       "      <td>100</td>\n",
       "      <td>21.580</td>\n",
       "    </tr>\n",
       "  </tbody>\n",
       "</table>\n",
       "</div>"
      ],
      "text/plain": [
       "   Producto_ID  price\n",
       "0           41 18.130\n",
       "1           53 14.300\n",
       "2           72  3.700\n",
       "3           73 21.320\n",
       "4          100 21.580"
      ]
     },
     "execution_count": 39,
     "metadata": {},
     "output_type": "execute_result"
    }
   ],
   "source": [
    "sale_prices_df = product_price_df.drop('return_price', axis=1).dropna().rename(columns={'sale_price': 'price'})\n",
    "return_prices_df = product_price_df.drop('sale_price', axis=1).dropna().rename(columns={'return_price': 'price'})\n",
    "prices_df = pd.concat([sale_prices_df, return_prices_df])\n",
    "prices_df = prices_df.groupby('Producto_ID')['price'].median().reset_index()\n",
    "prices_df.head(5)"
   ]
  },
  {
   "cell_type": "code",
   "execution_count": 40,
   "metadata": {},
   "outputs": [
    {
     "data": {
      "text/plain": [
       "(1799, 2)"
      ]
     },
     "execution_count": 40,
     "metadata": {},
     "output_type": "execute_result"
    }
   ],
   "source": [
    "prices_df.shape"
   ]
  },
  {
   "cell_type": "markdown",
   "metadata": {},
   "source": [
    "### product"
   ]
  },
  {
   "cell_type": "code",
   "execution_count": 41,
   "metadata": {},
   "outputs": [],
   "source": [
    "product_df['in_train'] = 0\n",
    "product_df['in_test'] = 0\n",
    "product_df.loc[product_df['Producto_ID'].isin(test_df['Producto_ID'].unique()), 'in_test'] = 1\n",
    "product_df.loc[product_df['Producto_ID'].isin(train_df['Producto_ID'].unique()), 'in_train'] = 1\n",
    "product_df = product_df[(product_df['in_test'] == 1) | (product_df['in_train'] == 1)]"
   ]
  },
  {
   "cell_type": "code",
   "execution_count": 42,
   "metadata": {},
   "outputs": [
    {
     "data": {
      "text/html": [
       "<div>\n",
       "<style scoped>\n",
       "    .dataframe tbody tr th:only-of-type {\n",
       "        vertical-align: middle;\n",
       "    }\n",
       "\n",
       "    .dataframe tbody tr th {\n",
       "        vertical-align: top;\n",
       "    }\n",
       "\n",
       "    .dataframe thead th {\n",
       "        text-align: right;\n",
       "    }\n",
       "</style>\n",
       "<table border=\"1\" class=\"dataframe\">\n",
       "  <thead>\n",
       "    <tr style=\"text-align: right;\">\n",
       "      <th></th>\n",
       "      <th>Producto_ID</th>\n",
       "      <th>NombreProducto</th>\n",
       "      <th>popular_name</th>\n",
       "      <th>property</th>\n",
       "      <th>unit</th>\n",
       "      <th>pieces</th>\n",
       "      <th>in_train</th>\n",
       "      <th>in_test</th>\n",
       "    </tr>\n",
       "  </thead>\n",
       "  <tbody>\n",
       "    <tr>\n",
       "      <th>117</th>\n",
       "      <td>1289</td>\n",
       "      <td>Donas 6P Prom BIM 1289</td>\n",
       "      <td>NaN</td>\n",
       "      <td>NaN</td>\n",
       "      <td>NaN</td>\n",
       "      <td>NaN</td>\n",
       "      <td>1</td>\n",
       "      <td>0</td>\n",
       "    </tr>\n",
       "    <tr>\n",
       "      <th>190</th>\n",
       "      <td>3509</td>\n",
       "      <td>Paletina para Cafe NES 3509</td>\n",
       "      <td>NaN</td>\n",
       "      <td>NaN</td>\n",
       "      <td>NaN</td>\n",
       "      <td>NaN</td>\n",
       "      <td>1</td>\n",
       "      <td>0</td>\n",
       "    </tr>\n",
       "    <tr>\n",
       "      <th>381</th>\n",
       "      <td>30099</td>\n",
       "      <td>Camioncitos Bimbo BIM 30099</td>\n",
       "      <td>NaN</td>\n",
       "      <td>NaN</td>\n",
       "      <td>NaN</td>\n",
       "      <td>NaN</td>\n",
       "      <td>1</td>\n",
       "      <td>1</td>\n",
       "    </tr>\n",
       "    <tr>\n",
       "      <th>1152</th>\n",
       "      <td>34646</td>\n",
       "      <td>Burrito Vaporero FrijolChorizo90gCU LON 34646</td>\n",
       "      <td>NaN</td>\n",
       "      <td>NaN</td>\n",
       "      <td>NaN</td>\n",
       "      <td>NaN</td>\n",
       "      <td>1</td>\n",
       "      <td>1</td>\n",
       "    </tr>\n",
       "    <tr>\n",
       "      <th>1677</th>\n",
       "      <td>36659</td>\n",
       "      <td>Tarima Twin Pack Thins Multig CU ORO 36659</td>\n",
       "      <td>NaN</td>\n",
       "      <td>NaN</td>\n",
       "      <td>NaN</td>\n",
       "      <td>NaN</td>\n",
       "      <td>1</td>\n",
       "      <td>1</td>\n",
       "    </tr>\n",
       "    <tr>\n",
       "      <th>1888</th>\n",
       "      <td>37569</td>\n",
       "      <td>Deliciosas Chochochispas 204gPromMTA LAR 37569</td>\n",
       "      <td>NaN</td>\n",
       "      <td>NaN</td>\n",
       "      <td>204g</td>\n",
       "      <td>NaN</td>\n",
       "      <td>1</td>\n",
       "      <td>1</td>\n",
       "    </tr>\n",
       "    <tr>\n",
       "      <th>1889</th>\n",
       "      <td>37570</td>\n",
       "      <td>Deliciosas Chochochispas 204gProm LAR 37570</td>\n",
       "      <td>NaN</td>\n",
       "      <td>NaN</td>\n",
       "      <td>204g</td>\n",
       "      <td>NaN</td>\n",
       "      <td>1</td>\n",
       "      <td>1</td>\n",
       "    </tr>\n",
       "    <tr>\n",
       "      <th>2449</th>\n",
       "      <td>48033</td>\n",
       "      <td>Galleta Granel Classics Chocolate GBI 48033</td>\n",
       "      <td>NaN</td>\n",
       "      <td>NaN</td>\n",
       "      <td>NaN</td>\n",
       "      <td>NaN</td>\n",
       "      <td>1</td>\n",
       "      <td>1</td>\n",
       "    </tr>\n",
       "  </tbody>\n",
       "</table>\n",
       "</div>"
      ],
      "text/plain": [
       "      Producto_ID                                  NombreProducto  \\\n",
       "117          1289                          Donas 6P Prom BIM 1289   \n",
       "190          3509                     Paletina para Cafe NES 3509   \n",
       "381         30099                     Camioncitos Bimbo BIM 30099   \n",
       "1152        34646   Burrito Vaporero FrijolChorizo90gCU LON 34646   \n",
       "1677        36659      Tarima Twin Pack Thins Multig CU ORO 36659   \n",
       "1888        37569  Deliciosas Chochochispas 204gPromMTA LAR 37569   \n",
       "1889        37570     Deliciosas Chochochispas 204gProm LAR 37570   \n",
       "2449        48033     Galleta Granel Classics Chocolate GBI 48033   \n",
       "\n",
       "     popular_name property   unit pieces  in_train  in_test  \n",
       "117           NaN      NaN    NaN    NaN         1        0  \n",
       "190           NaN      NaN    NaN    NaN         1        0  \n",
       "381           NaN      NaN    NaN    NaN         1        1  \n",
       "1152          NaN      NaN    NaN    NaN         1        1  \n",
       "1677          NaN      NaN    NaN    NaN         1        1  \n",
       "1888          NaN      NaN   204g    NaN         1        1  \n",
       "1889          NaN      NaN   204g    NaN         1        1  \n",
       "2449          NaN      NaN    NaN    NaN         1        1  "
      ]
     },
     "execution_count": 42,
     "metadata": {},
     "output_type": "execute_result"
    }
   ],
   "source": [
    "product_df[product_df['property'].isnull()]"
   ]
  },
  {
   "cell_type": "code",
   "execution_count": 43,
   "metadata": {},
   "outputs": [],
   "source": [
    "product_df.loc[117, 'popular_name'] = 'Donas'\n",
    "product_df.loc[117, 'property'] = 'Prom BIM'\n",
    "product_df.loc[117, 'unit'] = None\n",
    "product_df.loc[117, 'pieces'] = '6p'\n",
    "\n",
    "product_df.loc[190, 'popular_name'] = 'Paletina para Cafe'\n",
    "product_df.loc[190, 'property'] = 'NES'\n",
    "product_df.loc[190, 'unit'] = None\n",
    "product_df.loc[190, 'pieces'] = None\n",
    "\n",
    "product_df.loc[381, 'popular_name'] = 'Camioncitos Bimbo'\n",
    "product_df.loc[381, 'property'] = 'BIM'\n",
    "product_df.loc[381, 'unit'] = None\n",
    "product_df.loc[381, 'pieces'] = None\n",
    "\n",
    "product_df.loc[1152, 'popular_name'] = 'Burrito Vaporero FrijolChorizo'\n",
    "product_df.loc[1152, 'property'] = 'CU LON'\n",
    "product_df.loc[1152, 'unit'] = '90g'\n",
    "product_df.loc[1152, 'pieces'] = None\n",
    "\n",
    "product_df.loc[1677, 'popular_name'] = 'Tarima Twin Pack Thins Multig'\n",
    "product_df.loc[1677, 'property'] = 'CU ORO'\n",
    "product_df.loc[1677, 'unit'] = None\n",
    "product_df.loc[1677, 'pieces'] = None\n",
    "\n",
    "product_df.loc[1888, 'popular_name'] = 'Deliciosas Chochochispas'\n",
    "product_df.loc[1888, 'property'] = 'Prom MTA LAR'\n",
    "product_df.loc[1888, 'unit'] = '204g'\n",
    "product_df.loc[1888, 'pieces'] = None\n",
    "\n",
    "product_df.loc[1889, 'popular_name'] = 'Deliciosas Chochochispas'\n",
    "product_df.loc[1889, 'property'] = 'Prom LAR'\n",
    "product_df.loc[1889, 'unit'] = '204g'\n",
    "product_df.loc[1889, 'pieces'] = None\n",
    "\n",
    "product_df.loc[2449, 'popular_name'] = 'Galleta Granel Classics Chocolate'\n",
    "product_df.loc[2449, 'property'] = 'GBI'\n",
    "product_df.loc[2449, 'unit'] = None\n",
    "product_df.loc[2449, 'pieces'] = None"
   ]
  },
  {
   "cell_type": "code",
   "execution_count": 44,
   "metadata": {},
   "outputs": [
    {
     "data": {
      "text/html": [
       "<div>\n",
       "<style scoped>\n",
       "    .dataframe tbody tr th:only-of-type {\n",
       "        vertical-align: middle;\n",
       "    }\n",
       "\n",
       "    .dataframe tbody tr th {\n",
       "        vertical-align: top;\n",
       "    }\n",
       "\n",
       "    .dataframe thead th {\n",
       "        text-align: right;\n",
       "    }\n",
       "</style>\n",
       "<table border=\"1\" class=\"dataframe\">\n",
       "  <thead>\n",
       "    <tr style=\"text-align: right;\">\n",
       "      <th></th>\n",
       "      <th>Producto_ID</th>\n",
       "      <th>NombreProducto</th>\n",
       "      <th>popular_name</th>\n",
       "      <th>property</th>\n",
       "      <th>unit</th>\n",
       "      <th>pieces</th>\n",
       "      <th>in_train</th>\n",
       "      <th>in_test</th>\n",
       "    </tr>\n",
       "  </thead>\n",
       "  <tbody>\n",
       "    <tr>\n",
       "      <th>877</th>\n",
       "      <td>32841</td>\n",
       "      <td>Tortilla Hna Chihuahua 10p535g SP MTA DH 32841</td>\n",
       "      <td>NaN</td>\n",
       "      <td>SP MTA DH</td>\n",
       "      <td>NaN</td>\n",
       "      <td>NaN</td>\n",
       "      <td>1</td>\n",
       "      <td>1</td>\n",
       "    </tr>\n",
       "    <tr>\n",
       "      <th>1585</th>\n",
       "      <td>36323</td>\n",
       "      <td>Principe Cho Bco MG 10p110g Prom CR1 MLA 36323</td>\n",
       "      <td>NaN</td>\n",
       "      <td>Prom CR1 MLA</td>\n",
       "      <td>NaN</td>\n",
       "      <td>NaN</td>\n",
       "      <td>1</td>\n",
       "      <td>1</td>\n",
       "    </tr>\n",
       "    <tr>\n",
       "      <th>1748</th>\n",
       "      <td>36927</td>\n",
       "      <td>Combo Salma mas Levite1360g Prom CUB SAN 36927</td>\n",
       "      <td>NaN</td>\n",
       "      <td>Prom CUB SAN</td>\n",
       "      <td>NaN</td>\n",
       "      <td>NaN</td>\n",
       "      <td>1</td>\n",
       "      <td>0</td>\n",
       "    </tr>\n",
       "  </tbody>\n",
       "</table>\n",
       "</div>"
      ],
      "text/plain": [
       "      Producto_ID                                  NombreProducto  \\\n",
       "877         32841  Tortilla Hna Chihuahua 10p535g SP MTA DH 32841   \n",
       "1585        36323  Principe Cho Bco MG 10p110g Prom CR1 MLA 36323   \n",
       "1748        36927  Combo Salma mas Levite1360g Prom CUB SAN 36927   \n",
       "\n",
       "     popular_name      property unit pieces  in_train  in_test  \n",
       "877           NaN     SP MTA DH  NaN    NaN         1        1  \n",
       "1585          NaN  Prom CR1 MLA  NaN    NaN         1        1  \n",
       "1748          NaN  Prom CUB SAN  NaN    NaN         1        0  "
      ]
     },
     "execution_count": 44,
     "metadata": {},
     "output_type": "execute_result"
    }
   ],
   "source": [
    "product_df[product_df['popular_name'].isnull()]"
   ]
  },
  {
   "cell_type": "code",
   "execution_count": 45,
   "metadata": {},
   "outputs": [],
   "source": [
    "product_df.loc[877, 'popular_name'] = 'Tortilla Hna Chihuahua'\n",
    "product_df.loc[877, 'unit'] = '535g'\n",
    "product_df.loc[877, 'pieces'] = '10p'\n",
    "\n",
    "product_df.loc[1585, 'popular_name'] = 'Principe Cho Bco MG'\n",
    "product_df.loc[1585, 'unit'] = '110g'\n",
    "product_df.loc[1585, 'pieces'] = '10p'\n",
    "\n",
    "product_df.loc[1748, 'popular_name'] = 'Combo Salma mas Levite'\n",
    "product_df.loc[1748, 'unit'] = '1360g'\n",
    "product_df.loc[1748, 'pieces'] = None"
   ]
  },
  {
   "cell_type": "code",
   "execution_count": 46,
   "metadata": {},
   "outputs": [],
   "source": [
    "product_df['pieces'] = product_df['pieces'].str.extract(r'(\\d+)(p|Reb)')[0]"
   ]
  },
  {
   "cell_type": "code",
   "execution_count": 47,
   "metadata": {},
   "outputs": [],
   "source": [
    "product_df['weight'] = product_df['unit'].str.strip()\n",
    "product_df['weight'] = product_df['weight'].str.replace(' ', '.')\n",
    "product_df['weight'] = product_df['weight'].str.upper()\n",
    "w = product_df['weight'].str.extract('(.+?)(KG|G|ML)', expand=True)\n",
    "product_df['weight'] = w[0].astype('float') * w[1].map({'KG':1000, 'G':1, 'ML':1})"
   ]
  },
  {
   "cell_type": "code",
   "execution_count": 48,
   "metadata": {},
   "outputs": [],
   "source": [
    "product_df = pd.merge(product_df, prices_df, how='left')"
   ]
  },
  {
   "cell_type": "markdown",
   "metadata": {},
   "source": [
    "## 2.2 Imputing Missing Data"
   ]
  },
  {
   "cell_type": "markdown",
   "metadata": {},
   "source": [
    "### product"
   ]
  },
  {
   "cell_type": "code",
   "execution_count": 49,
   "metadata": {},
   "outputs": [],
   "source": [
    "product_df['pieces'] = product_df['pieces'].fillna(1)"
   ]
  },
  {
   "cell_type": "code",
   "execution_count": 50,
   "metadata": {},
   "outputs": [
    {
     "data": {
      "text/plain": [
       "311.0"
      ]
     },
     "execution_count": 50,
     "metadata": {},
     "output_type": "execute_result"
    }
   ],
   "source": [
    "product_df[product_df['weight'].isnull()]['price'].max()"
   ]
  },
  {
   "cell_type": "code",
   "execution_count": 51,
   "metadata": {},
   "outputs": [
    {
     "data": {
      "text/plain": [
       "1880.0"
      ]
     },
     "execution_count": 51,
     "metadata": {},
     "output_type": "execute_result"
    }
   ],
   "source": [
    "product_df[product_df['price'].isnull()]['weight'].max()"
   ]
  },
  {
   "cell_type": "code",
   "execution_count": 52,
   "metadata": {},
   "outputs": [
    {
     "data": {
      "image/png": "[encoded data removed]",
      "text/plain": [
       "<Figure size 1152x576 with 1 Axes>"
      ]
     },
     "metadata": {
      "needs_background": "light"
     },
     "output_type": "display_data"
    }
   ],
   "source": [
    "df = product_df.dropna()\n",
    "df = df[(df['price'] <= 311) & (df['weight'] <= 1880)]\n",
    "plt.figure(figsize=(16,8))\n",
    "sns.scatterplot(x='weight', y='price', data=df)\n",
    "del df"
   ]
  },
  {
   "cell_type": "code",
   "execution_count": 53,
   "metadata": {},
   "outputs": [],
   "source": [
    "from sklearn.linear_model import LinearRegression\n",
    "\n",
    "df = product_df.dropna()\n",
    "df = df[(df['price'] <= 100) & (df['weight'] <= 1880)]\n",
    "\n",
    "# predict missing prices\n",
    "lf = LinearRegression()\n",
    "lf.fit(df['weight'].values.reshape(-1, 1), df['price'])\n",
    "\n",
    "prices = lf.predict(product_df[product_df['price'].isnull()]['weight'].values.reshape(-1, 1))\n",
    "\n",
    "product_df.loc[product_df['price'].isnull(), 'price'] = prices\n",
    "\n",
    "# predict missing weights\n",
    "lf = LinearRegression()\n",
    "lf.fit(df['price'].values.reshape(-1, 1), df['weight'])\n",
    "\n",
    "weights = lf.predict(product_df[product_df['weight'].isnull()]['price'].values.reshape(-1, 1))\n",
    "\n",
    "product_df.loc[product_df['weight'].isnull(), 'weight'] = weights\n",
    "\n",
    "del df\n",
    "del prices\n",
    "del weights"
   ]
  },
  {
   "cell_type": "code",
   "execution_count": 54,
   "metadata": {},
   "outputs": [
    {
     "data": {
      "text/plain": [
       "True"
      ]
     },
     "execution_count": 54,
     "metadata": {},
     "output_type": "execute_result"
    }
   ],
   "source": [
    "(product_df.drop(['unit'], axis=1).isnull().sum() == 0).all()"
   ]
  },
  {
   "cell_type": "markdown",
   "metadata": {},
   "source": [
    "## 2.3 Transforming Data Type"
   ]
  },
  {
   "cell_type": "code",
   "execution_count": 55,
   "metadata": {},
   "outputs": [],
   "source": [
    "product_df['pieces'] = product_df['pieces'].astype('int16')\n",
    "product_df['in_train'] = product_df['in_train'].astype('bool')\n",
    "product_df['in_test'] = product_df['in_test'].astype('bool')\n",
    "product_df['weight'] = product_df['weight'].astype('float32')\n",
    "product_df['price'] = product_df['price'].astype('float32')"
   ]
  },
  {
   "cell_type": "code",
   "execution_count": 56,
   "metadata": {},
   "outputs": [],
   "source": [
    "town_state_df['State'] = town_state_df['State'].astype('category')"
   ]
  },
  {
   "cell_type": "code",
   "execution_count": 57,
   "metadata": {},
   "outputs": [],
   "source": [
    "train_df['Canal_ID'] = train_df['Canal_ID'].astype('category')\n",
    "test_df['Canal_ID'] = test_df['Canal_ID'].astype('category')"
   ]
  },
  {
   "cell_type": "markdown",
   "metadata": {},
   "source": [
    "## 2.4 Dropping Features"
   ]
  },
  {
   "cell_type": "code",
   "execution_count": 58,
   "metadata": {},
   "outputs": [],
   "source": [
    "train_df.drop(['Venta_uni_hoy', 'Venta_hoy', 'Dev_uni_proxima', 'Dev_proxima'], axis=1, inplace=True)"
   ]
  },
  {
   "cell_type": "markdown",
   "metadata": {},
   "source": [
    "## 2.5 Merging Data"
   ]
  },
  {
   "cell_type": "markdown",
   "metadata": {},
   "source": [
    "### town_state"
   ]
  },
  {
   "cell_type": "code",
   "execution_count": 59,
   "metadata": {},
   "outputs": [],
   "source": [
    "train_df = pd.merge(train_df, town_state_df[['Agencia_ID', 'Town_ID']], how='left')\n",
    "test_df = pd.merge(test_df, town_state_df[['Agencia_ID', 'Town_ID']], how='left')\n",
    "train_df.drop('Agencia_ID', axis=1, inplace=True)\n",
    "test_df.drop('Agencia_ID', axis=1, inplace=True)"
   ]
  },
  {
   "cell_type": "markdown",
   "metadata": {},
   "source": [
    "### product"
   ]
  },
  {
   "cell_type": "code",
   "execution_count": 60,
   "metadata": {},
   "outputs": [],
   "source": [
    "train_df = pd.merge(\n",
    "    train_df,\n",
    "    product_df[[\n",
    "        'Producto_ID', 'popular_name', 'property',\n",
    "        'pieces', 'weight', 'price'\n",
    "    ]], how='left')\n",
    "test_df = pd.merge(\n",
    "    test_df,\n",
    "    product_df[[\n",
    "        'Producto_ID', 'popular_name', 'property',\n",
    "        'pieces', 'weight', 'price'\n",
    "    ]], how='left')"
   ]
  },
  {
   "cell_type": "code",
   "execution_count": 61,
   "metadata": {},
   "outputs": [
    {
     "data": {
      "text/html": [
       "<div>\n",
       "<style scoped>\n",
       "    .dataframe tbody tr th:only-of-type {\n",
       "        vertical-align: middle;\n",
       "    }\n",
       "\n",
       "    .dataframe tbody tr th {\n",
       "        vertical-align: top;\n",
       "    }\n",
       "\n",
       "    .dataframe thead th {\n",
       "        text-align: right;\n",
       "    }\n",
       "</style>\n",
       "<table border=\"1\" class=\"dataframe\">\n",
       "  <thead>\n",
       "    <tr style=\"text-align: right;\">\n",
       "      <th></th>\n",
       "      <th>Semana</th>\n",
       "      <th>Canal_ID</th>\n",
       "      <th>Ruta_SAK</th>\n",
       "      <th>Cliente_ID</th>\n",
       "      <th>Producto_ID</th>\n",
       "      <th>Demanda_uni_equil</th>\n",
       "      <th>Town_ID</th>\n",
       "      <th>popular_name</th>\n",
       "      <th>property</th>\n",
       "      <th>pieces</th>\n",
       "      <th>weight</th>\n",
       "      <th>price</th>\n",
       "    </tr>\n",
       "  </thead>\n",
       "  <tbody>\n",
       "    <tr>\n",
       "      <th>0</th>\n",
       "      <td>3</td>\n",
       "      <td>7</td>\n",
       "      <td>3301</td>\n",
       "      <td>15766</td>\n",
       "      <td>1212</td>\n",
       "      <td>3</td>\n",
       "      <td>2008</td>\n",
       "      <td>Roles Canela</td>\n",
       "      <td>BIM</td>\n",
       "      <td>2</td>\n",
       "      <td>120.000</td>\n",
       "      <td>8.380</td>\n",
       "    </tr>\n",
       "    <tr>\n",
       "      <th>1</th>\n",
       "      <td>3</td>\n",
       "      <td>7</td>\n",
       "      <td>3301</td>\n",
       "      <td>15766</td>\n",
       "      <td>1216</td>\n",
       "      <td>4</td>\n",
       "      <td>2008</td>\n",
       "      <td>Roles Glass</td>\n",
       "      <td>BIM</td>\n",
       "      <td>2</td>\n",
       "      <td>135.000</td>\n",
       "      <td>8.380</td>\n",
       "    </tr>\n",
       "    <tr>\n",
       "      <th>2</th>\n",
       "      <td>3</td>\n",
       "      <td>7</td>\n",
       "      <td>3301</td>\n",
       "      <td>15766</td>\n",
       "      <td>1238</td>\n",
       "      <td>4</td>\n",
       "      <td>2008</td>\n",
       "      <td>Panquecito Gota Choc</td>\n",
       "      <td>BIM</td>\n",
       "      <td>2</td>\n",
       "      <td>140.000</td>\n",
       "      <td>9.830</td>\n",
       "    </tr>\n",
       "    <tr>\n",
       "      <th>3</th>\n",
       "      <td>3</td>\n",
       "      <td>7</td>\n",
       "      <td>3301</td>\n",
       "      <td>15766</td>\n",
       "      <td>1240</td>\n",
       "      <td>4</td>\n",
       "      <td>2008</td>\n",
       "      <td>Mantecadas Vainilla</td>\n",
       "      <td>BIM</td>\n",
       "      <td>4</td>\n",
       "      <td>125.000</td>\n",
       "      <td>8.380</td>\n",
       "    </tr>\n",
       "    <tr>\n",
       "      <th>4</th>\n",
       "      <td>3</td>\n",
       "      <td>7</td>\n",
       "      <td>3301</td>\n",
       "      <td>15766</td>\n",
       "      <td>1242</td>\n",
       "      <td>3</td>\n",
       "      <td>2008</td>\n",
       "      <td>Donitas Espolvoreadas</td>\n",
       "      <td>BIM</td>\n",
       "      <td>6</td>\n",
       "      <td>105.000</td>\n",
       "      <td>7.640</td>\n",
       "    </tr>\n",
       "  </tbody>\n",
       "</table>\n",
       "</div>"
      ],
      "text/plain": [
       "   Semana Canal_ID  Ruta_SAK  Cliente_ID  Producto_ID  Demanda_uni_equil  \\\n",
       "0       3        7      3301       15766         1212                  3   \n",
       "1       3        7      3301       15766         1216                  4   \n",
       "2       3        7      3301       15766         1238                  4   \n",
       "3       3        7      3301       15766         1240                  4   \n",
       "4       3        7      3301       15766         1242                  3   \n",
       "\n",
       "   Town_ID           popular_name property  pieces  weight  price  \n",
       "0     2008           Roles Canela      BIM       2 120.000  8.380  \n",
       "1     2008            Roles Glass      BIM       2 135.000  8.380  \n",
       "2     2008   Panquecito Gota Choc      BIM       2 140.000  9.830  \n",
       "3     2008    Mantecadas Vainilla      BIM       4 125.000  8.380  \n",
       "4     2008  Donitas Espolvoreadas      BIM       6 105.000  7.640  "
      ]
     },
     "execution_count": 61,
     "metadata": {},
     "output_type": "execute_result"
    }
   ],
   "source": [
    "train_df.head(5)"
   ]
  },
  {
   "cell_type": "markdown",
   "metadata": {},
   "source": [
    "## 2.6 Bin-Counting"
   ]
  },
  {
   "cell_type": "markdown",
   "metadata": {},
   "source": [
    "### Semana"
   ]
  },
  {
   "cell_type": "code",
   "execution_count": 62,
   "metadata": {},
   "outputs": [],
   "source": [
    "semana_med_s = train_df.groupby('Semana')['Demanda_uni_equil'].median()"
   ]
  },
  {
   "cell_type": "code",
   "execution_count": 63,
   "metadata": {},
   "outputs": [
    {
     "data": {
      "text/plain": [
       "Semana\n",
       "3   3.000\n",
       "4   3.000\n",
       "5   3.000\n",
       "6   3.000\n",
       "7   3.000\n",
       "8   3.000\n",
       "9   3.000\n",
       "Name: Demanda_uni_equil, dtype: float64"
      ]
     },
     "execution_count": 63,
     "metadata": {},
     "output_type": "execute_result"
    }
   ],
   "source": [
    "semana_med_s"
   ]
  },
  {
   "cell_type": "code",
   "execution_count": 64,
   "metadata": {},
   "outputs": [],
   "source": [
    "train_df.drop('Semana', axis=1, inplace=True)\n",
    "test_df.drop('Semana', axis=1, inplace=True)\n",
    "del semana_med_s"
   ]
  },
  {
   "cell_type": "markdown",
   "metadata": {},
   "source": [
    "### Cliente_ID"
   ]
  },
  {
   "cell_type": "code",
   "execution_count": 65,
   "metadata": {},
   "outputs": [],
   "source": [
    "client_med_s = train_df.groupby('Cliente_ID')['Demanda_uni_equil'].median().astype('int16')\n",
    "client_med_s.name = 'client_med'"
   ]
  },
  {
   "cell_type": "markdown",
   "metadata": {},
   "source": [
    "### popular_name"
   ]
  },
  {
   "cell_type": "code",
   "execution_count": 66,
   "metadata": {},
   "outputs": [],
   "source": [
    "popular_name_med_s = train_df.groupby('popular_name')['Demanda_uni_equil'].median().astype('int16')\n",
    "popular_name_med_s.name = 'popular_name_med'"
   ]
  },
  {
   "cell_type": "markdown",
   "metadata": {},
   "source": [
    "### Town_ID"
   ]
  },
  {
   "cell_type": "code",
   "execution_count": 67,
   "metadata": {},
   "outputs": [],
   "source": [
    "town_id_med_s = train_df.groupby('Town_ID')['Demanda_uni_equil'].median().astype('int16')\n",
    "town_id_med_s.name = 'town_id_med'"
   ]
  },
  {
   "cell_type": "markdown",
   "metadata": {},
   "source": [
    "### Ruta_SAK"
   ]
  },
  {
   "cell_type": "code",
   "execution_count": 68,
   "metadata": {},
   "outputs": [],
   "source": [
    "ruta_id_med_s = train_df.groupby('Ruta_SAK')['Demanda_uni_equil'].median().astype('int16')\n",
    "ruta_id_med_s.name = 'ruta_id_med'"
   ]
  },
  {
   "cell_type": "markdown",
   "metadata": {},
   "source": [
    "## 2.7 Merging Bin-Counting Data"
   ]
  },
  {
   "cell_type": "code",
   "execution_count": 69,
   "metadata": {},
   "outputs": [],
   "source": [
    "test_df = pd.merge(test_df, client_med_s.reset_index(), how='left')\n",
    "test_df = pd.merge(test_df, popular_name_med_s.reset_index(), how='left')\n",
    "test_df = pd.merge(test_df, town_id_med_s.reset_index(), how='left')\n",
    "test_df = pd.merge(test_df, ruta_id_med_s.reset_index(), how='left')"
   ]
  },
  {
   "cell_type": "code",
   "execution_count": 70,
   "metadata": {},
   "outputs": [],
   "source": [
    "train_df = pd.merge(train_df, client_med_s.reset_index(), how='left')\n",
    "train_df = pd.merge(train_df, popular_name_med_s.reset_index(), how='left')\n",
    "train_df = pd.merge(train_df, town_id_med_s.reset_index(), how='left')\n",
    "train_df = pd.merge(train_df, ruta_id_med_s.reset_index(), how='left')"
   ]
  },
  {
   "cell_type": "markdown",
   "metadata": {},
   "source": [
    "## 2.8 Imputing Test Missing Data"
   ]
  },
  {
   "cell_type": "code",
   "execution_count": 71,
   "metadata": {},
   "outputs": [],
   "source": [
    "test_df['popular_name_med'] = test_df['popular_name_med'].fillna(test_df['popular_name_med'].mean())\n",
    "test_df['client_med'] = test_df['client_med'].fillna(test_df['client_med'].mean())\n",
    "test_df['ruta_id_med'] = test_df['ruta_id_med'].fillna(test_df['ruta_id_med'].mean())"
   ]
  },
  {
   "cell_type": "markdown",
   "metadata": {},
   "source": [
    "## 2.9 Transforming Data Type"
   ]
  },
  {
   "cell_type": "code",
   "execution_count": 72,
   "metadata": {},
   "outputs": [],
   "source": [
    "train_df['client_med'] = train_df['client_med'].astype('int16')\n",
    "train_df['popular_name_med'] = train_df['popular_name_med'].astype('int16')\n",
    "train_df['town_id_med'] = train_df['town_id_med'].astype('int16')\n",
    "train_df['ruta_id_med'] = train_df['ruta_id_med'].astype('int16')"
   ]
  },
  {
   "cell_type": "code",
   "execution_count": 73,
   "metadata": {},
   "outputs": [],
   "source": [
    "test_df['client_med'] = test_df['client_med'].astype('int16')\n",
    "test_df['popular_name_med'] = test_df['popular_name_med'].astype('int16')\n",
    "test_df['town_id_med'] = test_df['town_id_med'].astype('int16')\n",
    "test_df['ruta_id_med'] = test_df['ruta_id_med'].astype('int16')"
   ]
  },
  {
   "cell_type": "markdown",
   "metadata": {},
   "source": [
    "## 2.10 Dropping Features"
   ]
  },
  {
   "cell_type": "code",
   "execution_count": 74,
   "metadata": {},
   "outputs": [],
   "source": [
    "train_df.drop(\n",
    "    ['Ruta_SAK', 'Cliente_ID', 'Producto_ID', 'Town_ID', 'popular_name', 'property', 'pieces'],\n",
    "    axis=1, inplace=True)\n",
    "test_df.drop(\n",
    "    ['Ruta_SAK', 'Cliente_ID', 'Producto_ID', 'Town_ID', 'popular_name', 'property', 'pieces'],\n",
    "    axis=1, inplace=True)"
   ]
  },
  {
   "cell_type": "code",
   "execution_count": 75,
   "metadata": {},
   "outputs": [
    {
     "data": {
      "text/html": [
       "<div>\n",
       "<style scoped>\n",
       "    .dataframe tbody tr th:only-of-type {\n",
       "        vertical-align: middle;\n",
       "    }\n",
       "\n",
       "    .dataframe tbody tr th {\n",
       "        vertical-align: top;\n",
       "    }\n",
       "\n",
       "    .dataframe thead th {\n",
       "        text-align: right;\n",
       "    }\n",
       "</style>\n",
       "<table border=\"1\" class=\"dataframe\">\n",
       "  <thead>\n",
       "    <tr style=\"text-align: right;\">\n",
       "      <th></th>\n",
       "      <th>Canal_ID</th>\n",
       "      <th>Demanda_uni_equil</th>\n",
       "      <th>weight</th>\n",
       "      <th>price</th>\n",
       "      <th>client_med</th>\n",
       "      <th>popular_name_med</th>\n",
       "      <th>town_id_med</th>\n",
       "      <th>ruta_id_med</th>\n",
       "    </tr>\n",
       "  </thead>\n",
       "  <tbody>\n",
       "    <tr>\n",
       "      <th>0</th>\n",
       "      <td>7</td>\n",
       "      <td>3</td>\n",
       "      <td>120.000</td>\n",
       "      <td>8.380</td>\n",
       "      <td>4</td>\n",
       "      <td>2</td>\n",
       "      <td>5</td>\n",
       "      <td>5</td>\n",
       "    </tr>\n",
       "    <tr>\n",
       "      <th>1</th>\n",
       "      <td>7</td>\n",
       "      <td>4</td>\n",
       "      <td>135.000</td>\n",
       "      <td>8.380</td>\n",
       "      <td>4</td>\n",
       "      <td>2</td>\n",
       "      <td>5</td>\n",
       "      <td>5</td>\n",
       "    </tr>\n",
       "    <tr>\n",
       "      <th>2</th>\n",
       "      <td>7</td>\n",
       "      <td>4</td>\n",
       "      <td>140.000</td>\n",
       "      <td>9.830</td>\n",
       "      <td>4</td>\n",
       "      <td>2</td>\n",
       "      <td>5</td>\n",
       "      <td>5</td>\n",
       "    </tr>\n",
       "  </tbody>\n",
       "</table>\n",
       "</div>"
      ],
      "text/plain": [
       "  Canal_ID  Demanda_uni_equil  weight  price  client_med  popular_name_med  \\\n",
       "0        7                  3 120.000  8.380           4                 2   \n",
       "1        7                  4 135.000  8.380           4                 2   \n",
       "2        7                  4 140.000  9.830           4                 2   \n",
       "\n",
       "   town_id_med  ruta_id_med  \n",
       "0            5            5  \n",
       "1            5            5  \n",
       "2            5            5  "
      ]
     },
     "execution_count": 75,
     "metadata": {},
     "output_type": "execute_result"
    }
   ],
   "source": [
    "train_df.head(3)"
   ]
  },
  {
   "cell_type": "code",
   "execution_count": 76,
   "metadata": {},
   "outputs": [
    {
     "data": {
      "text/html": [
       "<div>\n",
       "<style scoped>\n",
       "    .dataframe tbody tr th:only-of-type {\n",
       "        vertical-align: middle;\n",
       "    }\n",
       "\n",
       "    .dataframe tbody tr th {\n",
       "        vertical-align: top;\n",
       "    }\n",
       "\n",
       "    .dataframe thead th {\n",
       "        text-align: right;\n",
       "    }\n",
       "</style>\n",
       "<table border=\"1\" class=\"dataframe\">\n",
       "  <thead>\n",
       "    <tr style=\"text-align: right;\">\n",
       "      <th></th>\n",
       "      <th>id</th>\n",
       "      <th>Canal_ID</th>\n",
       "      <th>weight</th>\n",
       "      <th>price</th>\n",
       "      <th>client_med</th>\n",
       "      <th>popular_name_med</th>\n",
       "      <th>town_id_med</th>\n",
       "      <th>ruta_id_med</th>\n",
       "    </tr>\n",
       "  </thead>\n",
       "  <tbody>\n",
       "    <tr>\n",
       "      <th>0</th>\n",
       "      <td>0</td>\n",
       "      <td>1</td>\n",
       "      <td>75.000</td>\n",
       "      <td>6.250</td>\n",
       "      <td>2</td>\n",
       "      <td>6</td>\n",
       "      <td>3</td>\n",
       "      <td>3</td>\n",
       "    </tr>\n",
       "    <tr>\n",
       "      <th>1</th>\n",
       "      <td>1</td>\n",
       "      <td>1</td>\n",
       "      <td>140.000</td>\n",
       "      <td>9.830</td>\n",
       "      <td>2</td>\n",
       "      <td>2</td>\n",
       "      <td>3</td>\n",
       "      <td>2</td>\n",
       "    </tr>\n",
       "    <tr>\n",
       "      <th>2</th>\n",
       "      <td>2</td>\n",
       "      <td>1</td>\n",
       "      <td>110.000</td>\n",
       "      <td>7.780</td>\n",
       "      <td>4</td>\n",
       "      <td>3</td>\n",
       "      <td>3</td>\n",
       "      <td>3</td>\n",
       "    </tr>\n",
       "  </tbody>\n",
       "</table>\n",
       "</div>"
      ],
      "text/plain": [
       "   id Canal_ID  weight  price  client_med  popular_name_med  town_id_med  \\\n",
       "0   0        1  75.000  6.250           2                 6            3   \n",
       "1   1        1 140.000  9.830           2                 2            3   \n",
       "2   2        1 110.000  7.780           4                 3            3   \n",
       "\n",
       "   ruta_id_med  \n",
       "0            3  \n",
       "1            2  \n",
       "2            3  "
      ]
     },
     "execution_count": 76,
     "metadata": {},
     "output_type": "execute_result"
    }
   ],
   "source": [
    "test_df.head(3)"
   ]
  },
  {
   "cell_type": "markdown",
   "metadata": {},
   "source": [
    "# 3. Data Preprocessing"
   ]
  },
  {
   "cell_type": "markdown",
   "metadata": {},
   "source": [
    "## 3.1 Take a glance at all variables"
   ]
  },
  {
   "cell_type": "code",
   "execution_count": 77,
   "metadata": {},
   "outputs": [
    {
     "name": "stdout",
     "output_type": "stream",
     "text": [
      "<class 'pandas.core.frame.DataFrame'>\n",
      "Int64Index: 74180464 entries, 0 to 74180463\n",
      "Data columns (total 8 columns):\n",
      " #   Column             Dtype   \n",
      "---  ------             -----   \n",
      " 0   Canal_ID           category\n",
      " 1   Demanda_uni_equil  int16   \n",
      " 2   weight             float32 \n",
      " 3   price              float32 \n",
      " 4   client_med         int16   \n",
      " 5   popular_name_med   int16   \n",
      " 6   town_id_med        int16   \n",
      " 7   ruta_id_med        int16   \n",
      "dtypes: category(1), float32(2), int16(5)\n",
      "memory usage: 1.9 GB\n"
     ]
    }
   ],
   "source": [
    "train_df.info()"
   ]
  },
  {
   "cell_type": "code",
   "execution_count": 78,
   "metadata": {},
   "outputs": [
    {
     "name": "stdout",
     "output_type": "stream",
     "text": [
      "<class 'pandas.core.frame.DataFrame'>\n",
      "Int64Index: 6999251 entries, 0 to 6999250\n",
      "Data columns (total 8 columns):\n",
      " #   Column            Dtype   \n",
      "---  ------            -----   \n",
      " 0   id                int32   \n",
      " 1   Canal_ID          category\n",
      " 2   weight            float32 \n",
      " 3   price             float32 \n",
      " 4   client_med        int16   \n",
      " 5   popular_name_med  int16   \n",
      " 6   town_id_med       int16   \n",
      " 7   ruta_id_med       int16   \n",
      "dtypes: category(1), float32(2), int16(4), int32(1)\n",
      "memory usage: 193.6 MB\n"
     ]
    }
   ],
   "source": [
    "test_df.info()"
   ]
  },
  {
   "cell_type": "code",
   "execution_count": 79,
   "metadata": {},
   "outputs": [
    {
     "data": {
      "text/html": [
       "<div>\n",
       "<style scoped>\n",
       "    .dataframe tbody tr th:only-of-type {\n",
       "        vertical-align: middle;\n",
       "    }\n",
       "\n",
       "    .dataframe tbody tr th {\n",
       "        vertical-align: top;\n",
       "    }\n",
       "\n",
       "    .dataframe thead th {\n",
       "        text-align: right;\n",
       "    }\n",
       "</style>\n",
       "<table border=\"1\" class=\"dataframe\">\n",
       "  <thead>\n",
       "    <tr style=\"text-align: right;\">\n",
       "      <th></th>\n",
       "      <th>Demanda_uni_equil</th>\n",
       "      <th>weight</th>\n",
       "      <th>price</th>\n",
       "      <th>client_med</th>\n",
       "      <th>popular_name_med</th>\n",
       "      <th>town_id_med</th>\n",
       "      <th>ruta_id_med</th>\n",
       "    </tr>\n",
       "  </thead>\n",
       "  <tbody>\n",
       "    <tr>\n",
       "      <th>count</th>\n",
       "      <td>74180464.000</td>\n",
       "      <td>74180464.000</td>\n",
       "      <td>74180464.000</td>\n",
       "      <td>74180464.000</td>\n",
       "      <td>74180464.000</td>\n",
       "      <td>74180464.000</td>\n",
       "      <td>74180464.000</td>\n",
       "    </tr>\n",
       "    <tr>\n",
       "      <th>mean</th>\n",
       "      <td>7.225</td>\n",
       "      <td>128.986</td>\n",
       "      <td>7.203</td>\n",
       "      <td>4.429</td>\n",
       "      <td>4.447</td>\n",
       "      <td>3.423</td>\n",
       "      <td>3.844</td>\n",
       "    </tr>\n",
       "    <tr>\n",
       "      <th>std</th>\n",
       "      <td>21.771</td>\n",
       "      <td>195.477</td>\n",
       "      <td>6.606</td>\n",
       "      <td>9.387</td>\n",
       "      <td>7.788</td>\n",
       "      <td>2.080</td>\n",
       "      <td>6.092</td>\n",
       "    </tr>\n",
       "    <tr>\n",
       "      <th>min</th>\n",
       "      <td>0.000</td>\n",
       "      <td>1.700</td>\n",
       "      <td>0.010</td>\n",
       "      <td>0.000</td>\n",
       "      <td>0.000</td>\n",
       "      <td>2.000</td>\n",
       "      <td>0.000</td>\n",
       "    </tr>\n",
       "    <tr>\n",
       "      <th>25%</th>\n",
       "      <td>2.000</td>\n",
       "      <td>80.000</td>\n",
       "      <td>6.760</td>\n",
       "      <td>2.000</td>\n",
       "      <td>2.000</td>\n",
       "      <td>3.000</td>\n",
       "      <td>3.000</td>\n",
       "    </tr>\n",
       "    <tr>\n",
       "      <th>50%</th>\n",
       "      <td>3.000</td>\n",
       "      <td>120.000</td>\n",
       "      <td>8.380</td>\n",
       "      <td>3.000</td>\n",
       "      <td>3.000</td>\n",
       "      <td>3.000</td>\n",
       "      <td>3.000</td>\n",
       "    </tr>\n",
       "    <tr>\n",
       "      <th>75%</th>\n",
       "      <td>6.000</td>\n",
       "      <td>255.000</td>\n",
       "      <td>12.590</td>\n",
       "      <td>4.000</td>\n",
       "      <td>4.000</td>\n",
       "      <td>4.000</td>\n",
       "      <td>4.000</td>\n",
       "    </tr>\n",
       "    <tr>\n",
       "      <th>max</th>\n",
       "      <td>5000.000</td>\n",
       "      <td>25000.000</td>\n",
       "      <td>6412.330</td>\n",
       "      <td>4983.000</td>\n",
       "      <td>3000.000</td>\n",
       "      <td>2304.000</td>\n",
       "      <td>3168.000</td>\n",
       "    </tr>\n",
       "  </tbody>\n",
       "</table>\n",
       "</div>"
      ],
      "text/plain": [
       "       Demanda_uni_equil       weight        price   client_med  \\\n",
       "count       74180464.000 74180464.000 74180464.000 74180464.000   \n",
       "mean               7.225      128.986        7.203        4.429   \n",
       "std               21.771      195.477        6.606        9.387   \n",
       "min                0.000        1.700        0.010        0.000   \n",
       "25%                2.000       80.000        6.760        2.000   \n",
       "50%                3.000      120.000        8.380        3.000   \n",
       "75%                6.000      255.000       12.590        4.000   \n",
       "max             5000.000    25000.000     6412.330     4983.000   \n",
       "\n",
       "       popular_name_med  town_id_med  ruta_id_med  \n",
       "count      74180464.000 74180464.000 74180464.000  \n",
       "mean              4.447        3.423        3.844  \n",
       "std               7.788        2.080        6.092  \n",
       "min               0.000        2.000        0.000  \n",
       "25%               2.000        3.000        3.000  \n",
       "50%               3.000        3.000        3.000  \n",
       "75%               4.000        4.000        4.000  \n",
       "max            3000.000     2304.000     3168.000  "
      ]
     },
     "execution_count": 79,
     "metadata": {},
     "output_type": "execute_result"
    }
   ],
   "source": [
    "train_df.describe()"
   ]
  },
  {
   "cell_type": "code",
   "execution_count": 80,
   "metadata": {
    "scrolled": true
   },
   "outputs": [
    {
     "data": {
      "text/html": [
       "<div>\n",
       "<style scoped>\n",
       "    .dataframe tbody tr th:only-of-type {\n",
       "        vertical-align: middle;\n",
       "    }\n",
       "\n",
       "    .dataframe tbody tr th {\n",
       "        vertical-align: top;\n",
       "    }\n",
       "\n",
       "    .dataframe thead th {\n",
       "        text-align: right;\n",
       "    }\n",
       "</style>\n",
       "<table border=\"1\" class=\"dataframe\">\n",
       "  <thead>\n",
       "    <tr style=\"text-align: right;\">\n",
       "      <th></th>\n",
       "      <th>id</th>\n",
       "      <th>weight</th>\n",
       "      <th>price</th>\n",
       "      <th>client_med</th>\n",
       "      <th>popular_name_med</th>\n",
       "      <th>town_id_med</th>\n",
       "      <th>ruta_id_med</th>\n",
       "    </tr>\n",
       "  </thead>\n",
       "  <tbody>\n",
       "    <tr>\n",
       "      <th>count</th>\n",
       "      <td>6999251.000</td>\n",
       "      <td>6999251.000</td>\n",
       "      <td>6999251.000</td>\n",
       "      <td>6999251.000</td>\n",
       "      <td>6999251.000</td>\n",
       "      <td>6999251.000</td>\n",
       "      <td>6999251.000</td>\n",
       "    </tr>\n",
       "    <tr>\n",
       "      <th>mean</th>\n",
       "      <td>3499625.000</td>\n",
       "      <td>198.181</td>\n",
       "      <td>10.154</td>\n",
       "      <td>4.460</td>\n",
       "      <td>4.458</td>\n",
       "      <td>3.429</td>\n",
       "      <td>3.859</td>\n",
       "    </tr>\n",
       "    <tr>\n",
       "      <th>std</th>\n",
       "      <td>2020509.869</td>\n",
       "      <td>203.363</td>\n",
       "      <td>6.171</td>\n",
       "      <td>9.429</td>\n",
       "      <td>7.723</td>\n",
       "      <td>1.914</td>\n",
       "      <td>5.990</td>\n",
       "    </tr>\n",
       "    <tr>\n",
       "      <th>min</th>\n",
       "      <td>0.000</td>\n",
       "      <td>1.700</td>\n",
       "      <td>0.410</td>\n",
       "      <td>0.000</td>\n",
       "      <td>0.000</td>\n",
       "      <td>2.000</td>\n",
       "      <td>2.000</td>\n",
       "    </tr>\n",
       "    <tr>\n",
       "      <th>25%</th>\n",
       "      <td>1749812.500</td>\n",
       "      <td>76.000</td>\n",
       "      <td>6.250</td>\n",
       "      <td>2.000</td>\n",
       "      <td>2.000</td>\n",
       "      <td>3.000</td>\n",
       "      <td>3.000</td>\n",
       "    </tr>\n",
       "    <tr>\n",
       "      <th>50%</th>\n",
       "      <td>3499625.000</td>\n",
       "      <td>120.000</td>\n",
       "      <td>8.150</td>\n",
       "      <td>3.000</td>\n",
       "      <td>3.000</td>\n",
       "      <td>3.000</td>\n",
       "      <td>3.000</td>\n",
       "    </tr>\n",
       "    <tr>\n",
       "      <th>75%</th>\n",
       "      <td>5249437.500</td>\n",
       "      <td>255.000</td>\n",
       "      <td>13.940</td>\n",
       "      <td>4.000</td>\n",
       "      <td>4.000</td>\n",
       "      <td>4.000</td>\n",
       "      <td>4.000</td>\n",
       "    </tr>\n",
       "    <tr>\n",
       "      <th>max</th>\n",
       "      <td>6999250.000</td>\n",
       "      <td>25000.000</td>\n",
       "      <td>647.360</td>\n",
       "      <td>3920.000</td>\n",
       "      <td>1400.000</td>\n",
       "      <td>2304.000</td>\n",
       "      <td>1816.000</td>\n",
       "    </tr>\n",
       "  </tbody>\n",
       "</table>\n",
       "</div>"
      ],
      "text/plain": [
       "               id      weight       price  client_med  popular_name_med  \\\n",
       "count 6999251.000 6999251.000 6999251.000 6999251.000       6999251.000   \n",
       "mean  3499625.000     198.181      10.154       4.460             4.458   \n",
       "std   2020509.869     203.363       6.171       9.429             7.723   \n",
       "min         0.000       1.700       0.410       0.000             0.000   \n",
       "25%   1749812.500      76.000       6.250       2.000             2.000   \n",
       "50%   3499625.000     120.000       8.150       3.000             3.000   \n",
       "75%   5249437.500     255.000      13.940       4.000             4.000   \n",
       "max   6999250.000   25000.000     647.360    3920.000          1400.000   \n",
       "\n",
       "       town_id_med  ruta_id_med  \n",
       "count  6999251.000  6999251.000  \n",
       "mean         3.429        3.859  \n",
       "std          1.914        5.990  \n",
       "min          2.000        2.000  \n",
       "25%          3.000        3.000  \n",
       "50%          3.000        3.000  \n",
       "75%          4.000        4.000  \n",
       "max       2304.000     1816.000  "
      ]
     },
     "execution_count": 80,
     "metadata": {},
     "output_type": "execute_result"
    }
   ],
   "source": [
    "test_df.describe()"
   ]
  },
  {
   "cell_type": "code",
   "execution_count": 81,
   "metadata": {},
   "outputs": [],
   "source": [
    "'''Plot histogram of numerical variables to validate pandas intuition.'''\n",
    "def draw_histograms(df, variables, n_rows, n_cols, size):\n",
    "    fig=plt.figure()\n",
    "    for i, var_name in enumerate(variables):\n",
    "        ax=fig.add_subplot(n_rows, n_cols, i+1)\n",
    "        df[var_name].hist(bins=40, ax=ax, color='skyblue', alpha=0.8, figsize=size)\n",
    "        ax.set_title(var_name, fontsize=43)\n",
    "        ax.tick_params(axis='both', which='major', labelsize=35)\n",
    "        ax.tick_params(axis='both', which='minor', labelsize=35)\n",
    "        ax.set_xlabel('')\n",
    "    fig.tight_layout(rect=[0, 0.03, 1, 0.95])\n",
    "    plt.show()"
   ]
  },
  {
   "cell_type": "code",
   "execution_count": 82,
   "metadata": {},
   "outputs": [
    {
     "data": {
      "text/plain": [
       "town_id_med         570.474\n",
       "client_med           94.001\n",
       "price                91.813\n",
       "popular_name_med     55.059\n",
       "ruta_id_med          49.450\n",
       "Demanda_uni_equil    43.038\n",
       "weight                9.776\n",
       "dtype: float64"
      ]
     },
     "execution_count": 82,
     "metadata": {},
     "output_type": "execute_result"
    }
   ],
   "source": [
    "skewness = train_df.select_dtypes(include=['int8', 'int16', 'int32', 'int64', 'float32', 'float64']).apply(lambda x: skew(x))\n",
    "skew_index = skewness[abs(skewness) >= 0.75].index\n",
    "skewness[skew_index].sort_values(ascending=False)"
   ]
  },
  {
   "cell_type": "code",
   "execution_count": 83,
   "metadata": {},
   "outputs": [
    {
     "data": {
      "text/plain": [
       "town_id_med        503.272\n",
       "client_med          89.683\n",
       "popular_name_med    48.348\n",
       "ruta_id_med         42.790\n",
       "weight              10.287\n",
       "price                7.391\n",
       "dtype: float64"
      ]
     },
     "execution_count": 83,
     "metadata": {},
     "output_type": "execute_result"
    }
   ],
   "source": [
    "skewness = test_df.select_dtypes(include=['int8', 'int16', 'int32', 'int64', 'float32', 'float64']).apply(lambda x: skew(x))\n",
    "skew_index = skewness[abs(skewness) >= 0.75].index\n",
    "skewness[skew_index].sort_values(ascending=False)"
   ]
  },
  {
   "cell_type": "markdown",
   "metadata": {},
   "source": [
    "## 3.2 BoxCox Transform"
   ]
  },
  {
   "cell_type": "code",
   "execution_count": 84,
   "metadata": {},
   "outputs": [],
   "source": [
    "'''BoxCox Transform'''\n",
    "lam = 0.01\n",
    "for column in skew_index:\n",
    "    train_df[column] = boxcox1p(train_df[column], lam)\n",
    "    test_df[column] = boxcox1p(test_df[column], lam)"
   ]
  },
  {
   "cell_type": "code",
   "execution_count": 85,
   "metadata": {},
   "outputs": [
    {
     "name": "stdout",
     "output_type": "stream",
     "text": [
      "<class 'pandas.core.frame.DataFrame'>\n",
      "Int64Index: 74180464 entries, 0 to 74180463\n",
      "Data columns (total 8 columns):\n",
      " #   Column             Dtype   \n",
      "---  ------             -----   \n",
      " 0   Canal_ID           category\n",
      " 1   Demanda_uni_equil  int16   \n",
      " 2   weight             float32 \n",
      " 3   price              float32 \n",
      " 4   client_med         float64 \n",
      " 5   popular_name_med   float64 \n",
      " 6   town_id_med        float64 \n",
      " 7   ruta_id_med        float64 \n",
      "dtypes: category(1), float32(2), float64(4), int16(1)\n",
      "memory usage: 3.5 GB\n"
     ]
    }
   ],
   "source": [
    "train_df.info()"
   ]
  },
  {
   "cell_type": "code",
   "execution_count": 86,
   "metadata": {},
   "outputs": [
    {
     "name": "stdout",
     "output_type": "stream",
     "text": [
      "<class 'pandas.core.frame.DataFrame'>\n",
      "Int64Index: 6999251 entries, 0 to 6999250\n",
      "Data columns (total 8 columns):\n",
      " #   Column            Dtype   \n",
      "---  ------            -----   \n",
      " 0   id                int32   \n",
      " 1   Canal_ID          category\n",
      " 2   weight            float32 \n",
      " 3   price             float32 \n",
      " 4   client_med        float64 \n",
      " 5   popular_name_med  float64 \n",
      " 6   town_id_med       float64 \n",
      " 7   ruta_id_med       float64 \n",
      "dtypes: category(1), float32(2), float64(4), int32(1)\n",
      "memory usage: 353.8 MB\n"
     ]
    }
   ],
   "source": [
    "test_df.info()"
   ]
  },
  {
   "cell_type": "markdown",
   "metadata": {},
   "source": [
    "## 3.3 Transforming Data Type"
   ]
  },
  {
   "cell_type": "code",
   "execution_count": 87,
   "metadata": {},
   "outputs": [],
   "source": [
    "train_df['client_med'] = train_df['client_med'].astype('float32')\n",
    "train_df['popular_name_med'] = train_df['popular_name_med'].astype('float32')\n",
    "train_df['town_id_med'] = train_df['town_id_med'].astype('float32')\n",
    "train_df['ruta_id_med'] = train_df['ruta_id_med'].astype('float32')"
   ]
  },
  {
   "cell_type": "code",
   "execution_count": 88,
   "metadata": {},
   "outputs": [],
   "source": [
    "test_df['client_med'] = test_df['client_med'].astype('float32')\n",
    "test_df['popular_name_med'] = test_df['popular_name_med'].astype('float32')\n",
    "test_df['town_id_med'] = test_df['town_id_med'].astype('float32')\n",
    "test_df['ruta_id_med'] = test_df['ruta_id_med'].astype('float32')"
   ]
  },
  {
   "cell_type": "markdown",
   "metadata": {},
   "source": [
    "# 4. Exploratory Data Analysis "
   ]
  },
  {
   "cell_type": "markdown",
   "metadata": {},
   "source": [
    "## 4.1 Analyzing Target "
   ]
  },
  {
   "cell_type": "code",
   "execution_count": 89,
   "metadata": {},
   "outputs": [],
   "source": [
    "sample_train_df = train_df.sample(n=10000)\n",
    "sample_train_df['log_target'] = np.log1p(sample_train_df['Demanda_uni_equil'])"
   ]
  },
  {
   "cell_type": "code",
   "execution_count": 90,
   "metadata": {},
   "outputs": [
    {
     "data": {
      "text/html": [
       "<div>\n",
       "<style scoped>\n",
       "    .dataframe tbody tr th:only-of-type {\n",
       "        vertical-align: middle;\n",
       "    }\n",
       "\n",
       "    .dataframe tbody tr th {\n",
       "        vertical-align: top;\n",
       "    }\n",
       "\n",
       "    .dataframe thead th {\n",
       "        text-align: right;\n",
       "    }\n",
       "</style>\n",
       "<table border=\"1\" class=\"dataframe\">\n",
       "  <thead>\n",
       "    <tr style=\"text-align: right;\">\n",
       "      <th></th>\n",
       "      <th>Canal_ID</th>\n",
       "      <th>Demanda_uni_equil</th>\n",
       "      <th>weight</th>\n",
       "      <th>price</th>\n",
       "      <th>client_med</th>\n",
       "      <th>popular_name_med</th>\n",
       "      <th>town_id_med</th>\n",
       "      <th>ruta_id_med</th>\n",
       "      <th>log_target</th>\n",
       "    </tr>\n",
       "  </thead>\n",
       "  <tbody>\n",
       "    <tr>\n",
       "      <th>15223982</th>\n",
       "      <td>1</td>\n",
       "      <td>1</td>\n",
       "      <td>4.648</td>\n",
       "      <td>2.163</td>\n",
       "      <td>1.396</td>\n",
       "      <td>1.808</td>\n",
       "      <td>1.622</td>\n",
       "      <td>1.622</td>\n",
       "      <td>0.693</td>\n",
       "    </tr>\n",
       "    <tr>\n",
       "      <th>73974594</th>\n",
       "      <td>1</td>\n",
       "      <td>2</td>\n",
       "      <td>4.774</td>\n",
       "      <td>2.180</td>\n",
       "      <td>1.396</td>\n",
       "      <td>1.622</td>\n",
       "      <td>1.396</td>\n",
       "      <td>1.105</td>\n",
       "      <td>1.099</td>\n",
       "    </tr>\n",
       "    <tr>\n",
       "      <th>26300021</th>\n",
       "      <td>1</td>\n",
       "      <td>5</td>\n",
       "      <td>4.614</td>\n",
       "      <td>2.001</td>\n",
       "      <td>1.105</td>\n",
       "      <td>1.622</td>\n",
       "      <td>1.396</td>\n",
       "      <td>1.396</td>\n",
       "      <td>1.792</td>\n",
       "    </tr>\n",
       "    <tr>\n",
       "      <th>5813796</th>\n",
       "      <td>1</td>\n",
       "      <td>14</td>\n",
       "      <td>4.107</td>\n",
       "      <td>1.401</td>\n",
       "      <td>1.808</td>\n",
       "      <td>2.427</td>\n",
       "      <td>1.396</td>\n",
       "      <td>1.622</td>\n",
       "      <td>2.708</td>\n",
       "    </tr>\n",
       "    <tr>\n",
       "      <th>14828839</th>\n",
       "      <td>1</td>\n",
       "      <td>5</td>\n",
       "      <td>4.107</td>\n",
       "      <td>1.401</td>\n",
       "      <td>1.105</td>\n",
       "      <td>2.427</td>\n",
       "      <td>1.396</td>\n",
       "      <td>1.105</td>\n",
       "      <td>1.792</td>\n",
       "    </tr>\n",
       "  </tbody>\n",
       "</table>\n",
       "</div>"
      ],
      "text/plain": [
       "         Canal_ID  Demanda_uni_equil  weight  price  client_med  \\\n",
       "15223982        1                  1   4.648  2.163       1.396   \n",
       "73974594        1                  2   4.774  2.180       1.396   \n",
       "26300021        1                  5   4.614  2.001       1.105   \n",
       "5813796         1                 14   4.107  1.401       1.808   \n",
       "14828839        1                  5   4.107  1.401       1.105   \n",
       "\n",
       "          popular_name_med  town_id_med  ruta_id_med  log_target  \n",
       "15223982             1.808        1.622        1.622       0.693  \n",
       "73974594             1.622        1.396        1.105       1.099  \n",
       "26300021             1.622        1.396        1.396       1.792  \n",
       "5813796              2.427        1.396        1.622       2.708  \n",
       "14828839             2.427        1.396        1.105       1.792  "
      ]
     },
     "execution_count": 90,
     "metadata": {},
     "output_type": "execute_result"
    }
   ],
   "source": [
    "sample_train_df.head(5)"
   ]
  },
  {
   "cell_type": "code",
   "execution_count": 96,
   "metadata": {},
   "outputs": [
    {
     "data": {
      "image/png": "[encoded data removed]",
      "text/plain": [
       "<Figure size 1440x1152 with 2 Axes>"
      ]
     },
     "metadata": {
      "needs_background": "light"
     },
     "output_type": "display_data"
    }
   ],
   "source": [
    "'''correlation matrix'''\n",
    "plt.subplots(figsize=(20, 16))\n",
    "k = 20 #number of variables for heatmap\n",
    "corrmat = sample_train_df.corr()\n",
    "cols = corrmat.nlargest(k, 'log_target')['log_target'].index\n",
    "\n",
    "cm = np.corrcoef(sample_train_df[cols].values.T)\n",
    "hm = sns.heatmap(cm, cbar=True, annot=True, square=True,\n",
    "                 fmt='.2f', annot_kws={'size': 20}, cmap='Blues',\n",
    "                 yticklabels=cols.values, xticklabels=cols.values)\n",
    "plt.show()"
   ]
  },
  {
   "cell_type": "code",
   "execution_count": 97,
   "metadata": {},
   "outputs": [
    {
     "data": {
      "text/plain": [
       "LGBMRegressor(max_depth=5, num_leaves=1000, random_state=2)"
      ]
     },
     "execution_count": 97,
     "metadata": {},
     "output_type": "execute_result"
    }
   ],
   "source": [
    "'''Check feature inportance by applying LightGBM'''\n",
    "import lightgbm as lgb\n",
    "model_lgb = lgb.LGBMRegressor(num_leaves=1000,\n",
    "                              max_depth=5,\n",
    "                              learning_rate=0.1,\n",
    "                              random_state=2)\n",
    "model_lgb.fit(sample_train_df.drop(['Demanda_uni_equil', 'log_target'], axis=1), sample_train_df['log_target'])"
   ]
  },
  {
   "cell_type": "code",
   "execution_count": 98,
   "metadata": {},
   "outputs": [
    {
     "data": {
      "text/html": [
       "<div>\n",
       "<style scoped>\n",
       "    .dataframe tbody tr th:only-of-type {\n",
       "        vertical-align: middle;\n",
       "    }\n",
       "\n",
       "    .dataframe tbody tr th {\n",
       "        vertical-align: top;\n",
       "    }\n",
       "\n",
       "    .dataframe thead th {\n",
       "        text-align: right;\n",
       "    }\n",
       "</style>\n",
       "<table border=\"1\" class=\"dataframe\">\n",
       "  <thead>\n",
       "    <tr style=\"text-align: right;\">\n",
       "      <th></th>\n",
       "      <th>importance</th>\n",
       "    </tr>\n",
       "  </thead>\n",
       "  <tbody>\n",
       "    <tr>\n",
       "      <th>client_med</th>\n",
       "      <td>467</td>\n",
       "    </tr>\n",
       "    <tr>\n",
       "      <th>price</th>\n",
       "      <td>404</td>\n",
       "    </tr>\n",
       "    <tr>\n",
       "      <th>weight</th>\n",
       "      <td>397</td>\n",
       "    </tr>\n",
       "    <tr>\n",
       "      <th>popular_name_med</th>\n",
       "      <td>267</td>\n",
       "    </tr>\n",
       "    <tr>\n",
       "      <th>ruta_id_med</th>\n",
       "      <td>249</td>\n",
       "    </tr>\n",
       "    <tr>\n",
       "      <th>town_id_med</th>\n",
       "      <td>88</td>\n",
       "    </tr>\n",
       "    <tr>\n",
       "      <th>Canal_ID</th>\n",
       "      <td>49</td>\n",
       "    </tr>\n",
       "  </tbody>\n",
       "</table>\n",
       "</div>"
      ],
      "text/plain": [
       "                  importance\n",
       "client_med               467\n",
       "price                    404\n",
       "weight                   397\n",
       "popular_name_med         267\n",
       "ruta_id_med              249\n",
       "town_id_med               88\n",
       "Canal_ID                  49"
      ]
     },
     "execution_count": 98,
     "metadata": {},
     "output_type": "execute_result"
    }
   ],
   "source": [
    "df = pd.DataFrame(model_lgb.feature_importances_,\n",
    "             index=sample_train_df.drop(['Demanda_uni_equil', 'log_target'], axis=1).columns,\n",
    "             columns=['importance']).sort_values('importance', ascending=False)\n",
    "df[df.importance > 10]"
   ]
  },
  {
   "cell_type": "code",
   "execution_count": 99,
   "metadata": {},
   "outputs": [
    {
     "data": {
      "text/plain": [
       "<AxesSubplot:xlabel='weight', ylabel='log_target'>"
      ]
     },
     "execution_count": 99,
     "metadata": {},
     "output_type": "execute_result"
    },
    {
     "data": {
      "image/png": "[encoded data removed]",
      "text/plain": [
       "<Figure size 1152x576 with 1 Axes>"
      ]
     },
     "metadata": {
      "needs_background": "light"
     },
     "output_type": "display_data"
    }
   ],
   "source": [
    "# weight\n",
    "plt.figure(figsize=(16, 8))\n",
    "sns.scatterplot(x='weight', y='log_target', data=sample_train_df, palette='Blues_d')"
   ]
  },
  {
   "cell_type": "code",
   "execution_count": 100,
   "metadata": {
    "scrolled": true
   },
   "outputs": [
    {
     "data": {
      "text/plain": [
       "<AxesSubplot:xlabel='price', ylabel='log_target'>"
      ]
     },
     "execution_count": 100,
     "metadata": {},
     "output_type": "execute_result"
    },
    {
     "data": {
      "image/png": "[encoded data removed]",
      "text/plain": [
       "<Figure size 1152x576 with 1 Axes>"
      ]
     },
     "metadata": {
      "needs_background": "light"
     },
     "output_type": "display_data"
    }
   ],
   "source": [
    "# price\n",
    "plt.figure(figsize=(16, 8))\n",
    "sns.scatterplot(x='price', y='log_target', data=sample_train_df, palette='Blues_d')"
   ]
  },
  {
   "cell_type": "code",
   "execution_count": 101,
   "metadata": {
    "scrolled": true
   },
   "outputs": [
    {
     "data": {
      "text/plain": [
       "<AxesSubplot:xlabel='client_med', ylabel='log_target'>"
      ]
     },
     "execution_count": 101,
     "metadata": {},
     "output_type": "execute_result"
    },
    {
     "data": {
      "image/png": "[encoded data removed]",
      "text/plain": [
       "<Figure size 1152x576 with 1 Axes>"
      ]
     },
     "metadata": {
      "needs_background": "light"
     },
     "output_type": "display_data"
    }
   ],
   "source": [
    "# client_med\n",
    "plt.figure(figsize=(16, 8))\n",
    "sns.scatterplot(x='client_med', y='log_target', data=sample_train_df, palette='Blues_d')"
   ]
  },
  {
   "cell_type": "code",
   "execution_count": 102,
   "metadata": {
    "scrolled": true
   },
   "outputs": [
    {
     "data": {
      "text/plain": [
       "<AxesSubplot:xlabel='popular_name_med', ylabel='log_target'>"
      ]
     },
     "execution_count": 102,
     "metadata": {},
     "output_type": "execute_result"
    },
    {
     "data": {
      "image/png": "[encoded data removed]",
      "text/plain": [
       "<Figure size 1152x576 with 1 Axes>"
      ]
     },
     "metadata": {
      "needs_background": "light"
     },
     "output_type": "display_data"
    }
   ],
   "source": [
    "# popular_name_med\n",
    "plt.figure(figsize=(16, 8))\n",
    "sns.scatterplot(x='popular_name_med', y='log_target', data=sample_train_df, palette='Blues_d')"
   ]
  },
  {
   "cell_type": "code",
   "execution_count": 103,
   "metadata": {},
   "outputs": [
    {
     "data": {
      "text/plain": [
       "<AxesSubplot:xlabel='town_id_med', ylabel='log_target'>"
      ]
     },
     "execution_count": 103,
     "metadata": {},
     "output_type": "execute_result"
    },
    {
     "data": {
      "image/png": "[encoded data removed]",
      "text/plain": [
       "<Figure size 1152x576 with 1 Axes>"
      ]
     },
     "metadata": {
      "needs_background": "light"
     },
     "output_type": "display_data"
    }
   ],
   "source": [
    "# town_id_med\n",
    "plt.figure(figsize=(16, 8))\n",
    "sns.scatterplot(x='town_id_med', y='log_target', data=sample_train_df, palette='Blues_d')"
   ]
  },
  {
   "cell_type": "code",
   "execution_count": 104,
   "metadata": {},
   "outputs": [
    {
     "data": {
      "text/plain": [
       "<AxesSubplot:xlabel='ruta_id_med', ylabel='log_target'>"
      ]
     },
     "execution_count": 104,
     "metadata": {},
     "output_type": "execute_result"
    },
    {
     "data": {
      "image/png": "[encoded data removed]",
      "text/plain": [
       "<Figure size 1152x576 with 1 Axes>"
      ]
     },
     "metadata": {
      "needs_background": "light"
     },
     "output_type": "display_data"
    }
   ],
   "source": [
    "# ruta_id_med\n",
    "plt.figure(figsize=(16, 8))\n",
    "sns.scatterplot(x='ruta_id_med', y='log_target', data=sample_train_df, palette='Blues_d')"
   ]
  },
  {
   "cell_type": "markdown",
   "metadata": {},
   "source": [
    "# 5. Model Building and Evaluation"
   ]
  },
  {
   "cell_type": "markdown",
   "metadata": {},
   "source": [
    "## 5.1 Importing Packages"
   ]
  },
  {
   "cell_type": "code",
   "execution_count": 105,
   "metadata": {},
   "outputs": [],
   "source": [
    "'''Importing Modeling Interested Modules'''\n",
    "from sklearn.base import BaseEstimator\n",
    "from sklearn.pipeline import make_pipeline\n",
    "from sklearn.preprocessing import StandardScaler, RobustScaler\n",
    "from sklearn.model_selection import GridSearchCV\n",
    "from sklearn.linear_model import LinearRegression, LassoCV, RidgeCV, ElasticNetCV\n",
    "from sklearn.svm import SVR\n",
    "from sklearn.kernel_ridge import KernelRidge\n",
    "from lightgbm import LGBMRegressor"
   ]
  },
  {
   "cell_type": "markdown",
   "metadata": {},
   "source": [
    "## 5.2 Preparation before Building Models "
   ]
  },
  {
   "cell_type": "code",
   "execution_count": 106,
   "metadata": {},
   "outputs": [],
   "source": [
    "'''Adjust dataframe for modeling'''\n",
    "train_y = train_df['Demanda_uni_equil']\n",
    "train_df.drop(['Demanda_uni_equil'], axis=1, inplace=True)\n",
    "train_X = train_df\n",
    "test_X = test_df.drop('id', axis=1)\n",
    "\n",
    "'''Transform categorical features to dummy variables'''\n",
    "train_X = pd.get_dummies(train_X)\n",
    "test_X = pd.get_dummies(test_X)"
   ]
  },
  {
   "cell_type": "code",
   "execution_count": 107,
   "metadata": {},
   "outputs": [],
   "source": [
    "sample_train_df['Demanda_uni_equil'] = np.expm1(sample_train_df['log_target']).astype('int32')"
   ]
  },
  {
   "cell_type": "code",
   "execution_count": 108,
   "metadata": {},
   "outputs": [
    {
     "data": {
      "text/html": [
       "<div>\n",
       "<style scoped>\n",
       "    .dataframe tbody tr th:only-of-type {\n",
       "        vertical-align: middle;\n",
       "    }\n",
       "\n",
       "    .dataframe tbody tr th {\n",
       "        vertical-align: top;\n",
       "    }\n",
       "\n",
       "    .dataframe thead th {\n",
       "        text-align: right;\n",
       "    }\n",
       "</style>\n",
       "<table border=\"1\" class=\"dataframe\">\n",
       "  <thead>\n",
       "    <tr style=\"text-align: right;\">\n",
       "      <th></th>\n",
       "      <th>Canal_ID</th>\n",
       "      <th>Demanda_uni_equil</th>\n",
       "      <th>weight</th>\n",
       "      <th>price</th>\n",
       "      <th>client_med</th>\n",
       "      <th>popular_name_med</th>\n",
       "      <th>town_id_med</th>\n",
       "      <th>ruta_id_med</th>\n",
       "      <th>log_target</th>\n",
       "    </tr>\n",
       "  </thead>\n",
       "  <tbody>\n",
       "    <tr>\n",
       "      <th>15223982</th>\n",
       "      <td>1</td>\n",
       "      <td>1</td>\n",
       "      <td>4.648</td>\n",
       "      <td>2.163</td>\n",
       "      <td>1.396</td>\n",
       "      <td>1.808</td>\n",
       "      <td>1.622</td>\n",
       "      <td>1.622</td>\n",
       "      <td>0.693</td>\n",
       "    </tr>\n",
       "    <tr>\n",
       "      <th>73974594</th>\n",
       "      <td>1</td>\n",
       "      <td>2</td>\n",
       "      <td>4.774</td>\n",
       "      <td>2.180</td>\n",
       "      <td>1.396</td>\n",
       "      <td>1.622</td>\n",
       "      <td>1.396</td>\n",
       "      <td>1.105</td>\n",
       "      <td>1.099</td>\n",
       "    </tr>\n",
       "    <tr>\n",
       "      <th>26300021</th>\n",
       "      <td>1</td>\n",
       "      <td>5</td>\n",
       "      <td>4.614</td>\n",
       "      <td>2.001</td>\n",
       "      <td>1.105</td>\n",
       "      <td>1.622</td>\n",
       "      <td>1.396</td>\n",
       "      <td>1.396</td>\n",
       "      <td>1.792</td>\n",
       "    </tr>\n",
       "    <tr>\n",
       "      <th>5813796</th>\n",
       "      <td>1</td>\n",
       "      <td>14</td>\n",
       "      <td>4.107</td>\n",
       "      <td>1.401</td>\n",
       "      <td>1.808</td>\n",
       "      <td>2.427</td>\n",
       "      <td>1.396</td>\n",
       "      <td>1.622</td>\n",
       "      <td>2.708</td>\n",
       "    </tr>\n",
       "    <tr>\n",
       "      <th>14828839</th>\n",
       "      <td>1</td>\n",
       "      <td>5</td>\n",
       "      <td>4.107</td>\n",
       "      <td>1.401</td>\n",
       "      <td>1.105</td>\n",
       "      <td>2.427</td>\n",
       "      <td>1.396</td>\n",
       "      <td>1.105</td>\n",
       "      <td>1.792</td>\n",
       "    </tr>\n",
       "  </tbody>\n",
       "</table>\n",
       "</div>"
      ],
      "text/plain": [
       "         Canal_ID  Demanda_uni_equil  weight  price  client_med  \\\n",
       "15223982        1                  1   4.648  2.163       1.396   \n",
       "73974594        1                  2   4.774  2.180       1.396   \n",
       "26300021        1                  5   4.614  2.001       1.105   \n",
       "5813796         1                 14   4.107  1.401       1.808   \n",
       "14828839        1                  5   4.107  1.401       1.105   \n",
       "\n",
       "          popular_name_med  town_id_med  ruta_id_med  log_target  \n",
       "15223982             1.808        1.622        1.622       0.693  \n",
       "73974594             1.622        1.396        1.105       1.099  \n",
       "26300021             1.622        1.396        1.396       1.792  \n",
       "5813796              2.427        1.396        1.622       2.708  \n",
       "14828839             2.427        1.396        1.105       1.792  "
      ]
     },
     "execution_count": 108,
     "metadata": {},
     "output_type": "execute_result"
    }
   ],
   "source": [
    "sample_train_df.head(5)"
   ]
  },
  {
   "cell_type": "code",
   "execution_count": 109,
   "metadata": {},
   "outputs": [],
   "source": [
    "'''Prepare sample train for the fast training'''\n",
    "sample_train_y = sample_train_df['Demanda_uni_equil']\n",
    "sample_train_df.drop(['Demanda_uni_equil', 'log_target'], axis=1, inplace=True)\n",
    "sample_train_X = sample_train_df\n",
    "\n",
    "sample_train_X = pd.get_dummies(sample_train_X)"
   ]
  },
  {
   "cell_type": "code",
   "execution_count": 110,
   "metadata": {},
   "outputs": [],
   "source": [
    "'''We should use the log transform of the target value'''\n",
    "class MyEstimator(BaseEstimator):\n",
    "    def __init__(self, model):\n",
    "        self.model = model\n",
    "        \n",
    "    def fit(self, X, y):\n",
    "        self.model.fit(X, np.log1p(y))\n",
    "        return self \n",
    "\n",
    "    def predict(self, X):\n",
    "        predicts = np.expm1(self.model.predict(X))\n",
    "        mask = (predicts <= 0)\n",
    "        predicts[mask] = 0\n",
    "        return predicts"
   ]
  },
  {
   "cell_type": "code",
   "execution_count": 111,
   "metadata": {},
   "outputs": [],
   "source": [
    "'''Define evaluation function for Convienience'''\n",
    "def evaluation_model(model, train_X, train_y, test_X):\n",
    "    cv = rmsle_cv(model, train_X, train_y)\n",
    "    cv_mean = np.round(cv.mean(), 5)\n",
    "    cv_std = np.round(cv.std(), 5)\n",
    "    sample_prediction = model.predict(test_X.loc[:3, :])\n",
    "    return {'cv_mean': cv_mean, 'cv_std': cv_std, 'sample_prediction': sample_prediction}"
   ]
  },
  {
   "cell_type": "code",
   "execution_count": 112,
   "metadata": {},
   "outputs": [],
   "source": [
    "'''Define Hyperparameters Tuning Function'''\n",
    "def tune_hyperparameters(model, param_grid, train_X, train_y):\n",
    "    grid = GridSearchCV(\n",
    "        model, param_grid, \n",
    "        scoring='neg_mean_squared_log_error',\n",
    "        cv=3, n_jobs=-1,\n",
    "    )\n",
    "    grid.fit(train_X, train_y)\n",
    "    best_params = grid.best_params_ \n",
    "    best_score = np.round(np.sqrt(-1 * grid.best_score_), 5)\n",
    "    return best_params, best_score"
   ]
  },
  {
   "cell_type": "markdown",
   "metadata": {},
   "source": [
    "## 5.3 Building Models"
   ]
  },
  {
   "cell_type": "markdown",
   "metadata": {},
   "source": [
    "### LinearRegression"
   ]
  },
  {
   "cell_type": "code",
   "execution_count": 113,
   "metadata": {},
   "outputs": [
    {
     "name": "stdout",
     "output_type": "stream",
     "text": [
      "{'cv_mean': 0.57828, 'cv_std': 0.01089, 'sample_prediction': array([3.770215 , 1.3445094, 3.9214249, 1.8789132], dtype=float32)}\n"
     ]
    }
   ],
   "source": [
    "model = make_pipeline(\n",
    "    RobustScaler(),\n",
    "    LinearRegression(),\n",
    ")\n",
    "lr_model = MyEstimator(model)\n",
    "lr_model.fit(sample_train_X, sample_train_y)\n",
    "lr_eval = evaluation_model(lr_model, sample_train_X, sample_train_y, test_X)\n",
    "print(lr_eval)"
   ]
  },
  {
   "cell_type": "markdown",
   "metadata": {},
   "source": [
    "### RidgeCV"
   ]
  },
  {
   "cell_type": "code",
   "execution_count": 115,
   "metadata": {},
   "outputs": [
    {
     "name": "stdout",
     "output_type": "stream",
     "text": [
      "{'cv_mean': 0.57885, 'cv_std': 0.01123, 'sample_prediction': array([3.77195289, 1.35317079, 3.91987441, 1.88055039])}\n",
      "\n",
      "opt_alpha: 1.0\n"
     ]
    }
   ],
   "source": [
    "model = make_pipeline(\n",
    "    RobustScaler(),\n",
    "    RidgeCV(\n",
    "        alphas=(0.0001, 0.0005, 0.001, 0.01, 0.05, 0.1, 0.3, 1, 3, 5, 10),\n",
    "    ),\n",
    ")\n",
    "ridge_cv_model = MyEstimator(model)\n",
    "ridge_cv_model.fit(sample_train_X, sample_train_y)\n",
    "ridge_cv_eval = evaluation_model(ridge_cv_model, sample_train_X, sample_train_y, test_X)\n",
    "print(ridge_cv_eval)\n",
    "\n",
    "opt_alpha = ridge_cv_model.model.steps[1][1].alpha_\n",
    "print(f'\\nopt_alpha: {opt_alpha}')"
   ]
  },
  {
   "cell_type": "markdown",
   "metadata": {},
   "source": [
    "### SVR"
   ]
  },
  {
   "cell_type": "code",
   "execution_count": 125,
   "metadata": {},
   "outputs": [
    {
     "name": "stdout",
     "output_type": "stream",
     "text": [
      "{'cv_mean': 0.56967, 'cv_std': 0.00858, 'sample_prediction': array([3.9571917 , 1.33300058, 3.46769293, 1.87970667])}\n",
      "\n",
      "grid best_params: {'model__svr__C': 20, 'model__svr__epsilon': 0.01, 'model__svr__gamma': 0.01}\n"
     ]
    }
   ],
   "source": [
    "### build basemodel\n",
    "model = make_pipeline(\n",
    "    RobustScaler(),\n",
    "    SVR(),\n",
    ")\n",
    "svr_model = MyEstimator(model)\n",
    "\n",
    "### optimize hyperparameters\n",
    "param_grid = {'model__svr__C': [1, 10, 20],\n",
    "              'model__svr__epsilon': [0.001, 0.01, 0.1],\n",
    "              'model__svr__gamma': [0.0001, 0.001, 0.01]}\n",
    "best_params, best_score = \\\n",
    "    tune_hyperparameters(svr_model, param_grid, sample_train_X, sample_train_y)\n",
    "\n",
    "### fit using best_params\n",
    "svr_model.set_params(**best_params)\n",
    "svr_model.fit(sample_train_X, sample_train_y)\n",
    "svr_eval = evaluation_model(svr_model, sample_train_X, sample_train_y, test_X)\n",
    "print(svr_eval)\n",
    "\n",
    "print(f'\\ngrid best_params: {best_params}')"
   ]
  },
  {
   "cell_type": "markdown",
   "metadata": {},
   "source": [
    "### KernelRidge"
   ]
  },
  {
   "cell_type": "code",
   "execution_count": 120,
   "metadata": {},
   "outputs": [
    {
     "name": "stdout",
     "output_type": "stream",
     "text": [
      "{'cv_mean': 0.56714, 'cv_std': 0.00995, 'sample_prediction': array([4.03321938, 1.23027878, 3.62322514, 1.62942388])}\n",
      "\n",
      "grid best_params: {'model__kernelridge__alpha': 1, 'model__kernelridge__coef0': 3, 'model__kernelridge__degree': 2, 'model__kernelridge__kernel': 'polynomial'}\n"
     ]
    }
   ],
   "source": [
    "### build basemodel\n",
    "model = make_pipeline(\n",
    "    RobustScaler(),\n",
    "    KernelRidge(),\n",
    ")\n",
    "kr_model = MyEstimator(model)\n",
    "\n",
    "### optimize hyperparameters\n",
    "param_grid = {'model__kernelridge__alpha': [0.01, 0.1, 0.5, 1],\n",
    "              'model__kernelridge__kernel': ['linear', 'polynomial'],\n",
    "              'model__kernelridge__degree': [1, 1.5, 2, 3],\n",
    "              'model__kernelridge__coef0': [3, 4, 5]}\n",
    "best_params, best_score = \\\n",
    "    tune_hyperparameters(kr_model, param_grid, sample_train_X, sample_train_y)\n",
    "\n",
    "### fit using best_params\n",
    "kr_model.set_params(**best_params)\n",
    "kr_model.fit(sample_train_X, sample_train_y)\n",
    "kr_eval = evaluation_model(kr_model, sample_train_X, sample_train_y, test_X)\n",
    "print(kr_eval)\n",
    "\n",
    "print(f'\\ngrid best_params: {best_params}')"
   ]
  },
  {
   "cell_type": "markdown",
   "metadata": {},
   "source": [
    "### LightGBM"
   ]
  },
  {
   "cell_type": "code",
   "execution_count": 126,
   "metadata": {},
   "outputs": [
    {
     "name": "stdout",
     "output_type": "stream",
     "text": [
      "[LightGBM] [Warning] feature_fraction is set=0.2319, colsample_bytree=1.0 will be ignored. Current value: feature_fraction=0.2319\n",
      "[LightGBM] [Warning] min_data_in_leaf is set=6, min_child_samples=20 will be ignored. Current value: min_data_in_leaf=6\n",
      "[LightGBM] [Warning] min_sum_hessian_in_leaf is set=11, min_child_weight=0.001 will be ignored. Current value: min_sum_hessian_in_leaf=11\n",
      "[LightGBM] [Warning] bagging_fraction is set=0.8, subsample=1.0 will be ignored. Current value: bagging_fraction=0.8\n",
      "[LightGBM] [Warning] bagging_freq is set=5, subsample_freq=0 will be ignored. Current value: bagging_freq=5\n",
      "[LightGBM] [Warning] feature_fraction is set=0.2319, colsample_bytree=1.0 will be ignored. Current value: feature_fraction=0.2319\n",
      "[LightGBM] [Warning] min_data_in_leaf is set=6, min_child_samples=20 will be ignored. Current value: min_data_in_leaf=6\n",
      "[LightGBM] [Warning] min_sum_hessian_in_leaf is set=11, min_child_weight=0.001 will be ignored. Current value: min_sum_hessian_in_leaf=11\n",
      "[LightGBM] [Warning] bagging_fraction is set=0.8, subsample=1.0 will be ignored. Current value: bagging_fraction=0.8\n",
      "[LightGBM] [Warning] bagging_freq is set=5, subsample_freq=0 will be ignored. Current value: bagging_freq=5\n",
      "[LightGBM] [Warning] feature_fraction is set=0.2319, colsample_bytree=1.0 will be ignored. Current value: feature_fraction=0.2319\n",
      "[LightGBM] [Warning] min_data_in_leaf is set=6, min_child_samples=20 will be ignored. Current value: min_data_in_leaf=6\n",
      "[LightGBM] [Warning] min_sum_hessian_in_leaf is set=11, min_child_weight=0.001 will be ignored. Current value: min_sum_hessian_in_leaf=11\n",
      "[LightGBM] [Warning] bagging_fraction is set=0.8, subsample=1.0 will be ignored. Current value: bagging_fraction=0.8\n",
      "[LightGBM] [Warning] bagging_freq is set=5, subsample_freq=0 will be ignored. Current value: bagging_freq=5\n",
      "{'cv_mean': 0.55985, 'cv_std': 0.00913, 'sample_prediction': array([4.06286183, 1.46747753, 3.35984565, 1.59090573])}\n"
     ]
    }
   ],
   "source": [
    "model = LGBMRegressor(learning_rate=0.01, n_estimators=3000,\n",
    "                      num_leaves=5,\n",
    "                      objective='regression',\n",
    "                      max_bin=55, bagging_fraction=0.8,\n",
    "                      bagging_freq=5, feature_fraction=0.2319,\n",
    "                      feature_fraction_seed=9, bagging_seed=9,\n",
    "                      min_data_in_leaf=6, min_sum_hessian_in_leaf=11)\n",
    "lgb_model = MyEstimator(model)\n",
    "lgb_model.fit(sample_train_X, sample_train_y)\n",
    "lgb_eval = evaluation_model(lgb_model, sample_train_X, sample_train_y, test_X)\n",
    "print(lgb_eval)"
   ]
  },
  {
   "cell_type": "markdown",
   "metadata": {},
   "source": [
    "## 5.4 Submission"
   ]
  },
  {
   "cell_type": "code",
   "execution_count": 122,
   "metadata": {},
   "outputs": [],
   "source": [
    "def output_submission_file(model, test_X, filename='submission.csv'):\n",
    "    prediction = model.predict(test_X)\n",
    "    df = pd.DataFrame({'id': test_df['id'], 'Demanda_uni_equil': prediction})\n",
    "    print(f'{df.shape}')\n",
    "    print(f'{df.head(5)}')\n",
    "    df.to_csv(filename, index=False)\n",
    "    df.to_csv(filename + '.gz', index=False, compression='gzip')"
   ]
  },
  {
   "cell_type": "code",
   "execution_count": 123,
   "metadata": {},
   "outputs": [
    {
     "name": "stdout",
     "output_type": "stream",
     "text": [
      "(6999251, 2)\n",
      "   id  Demanda_uni_equil\n",
      "0   0              4.063\n",
      "1   1              1.467\n",
      "2   2              3.360\n",
      "3   3              1.591\n",
      "4   4              2.165\n"
     ]
    }
   ],
   "source": [
    "'''Submission'''\n",
    "output_submission_file(lgb_model, test_X)"
   ]
  }
 ],
 "metadata": {
  "kernelspec": {
   "display_name": "Python 3 (ipykernel)",
   "language": "python",
   "name": "python3"
  },
  "language_info": {
   "codemirror_mode": {
    "name": "ipython",
    "version": 3
   },
   "file_extension": ".py",
   "mimetype": "text/x-python",
   "name": "python",
   "nbconvert_exporter": "python",
   "pygments_lexer": "ipython3",
   "version": "3.9.12"
  },
  "toc-autonumbering": false,
  "toc-showcode": false,
  "toc-showmarkdowntxt": false,
  "toc-showtags": false
 },
 "nbformat": 4,
 "nbformat_minor": 1
}
